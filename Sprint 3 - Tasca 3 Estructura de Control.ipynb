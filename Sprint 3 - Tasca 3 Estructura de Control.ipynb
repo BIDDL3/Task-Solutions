{
 "cells": [
  {
   "attachments": {
    "IT%20Logo.png": {
     "image/png": "[encoded data removed]"
    }
   },
   "cell_type": "markdown",
   "metadata": {},
   "source": [
    "![IT%20Logo.png](attachment:IT%20Logo.png)"
   ]
  },
  {
   "cell_type": "markdown",
   "metadata": {},
   "source": [
    "<div class=\"alert alert-block alert-info\"><font size=\"5\"><center><b>Resolució dels Problemes\n",
    "</b></center></font>\n",
    "\n",
    "<div class=\"alert alert-block alert-info\"><font size=\"5\"><center><b><u>Spring 3 - Tasca 3 Estructura de Control\n",
    "</u></b></center></font>\n",
    "    \n",
    "$%$       \n",
    "\\begin{align*}Alex\\:Kumenius\\end{align*}\n",
    "\\begin{align*}Business\\hspace{2mm}Intelligence\\hspace{2mm}and\\hspace{2mm}Data\\hspace{2mm}Scientist\\hspace{2mm}Project\\hspace{2mm}Integrator\\end{align*}\n",
    "$%$       \n",
    "\\begin{align*}Date : Març\\hspace{2mm}2021\\end{align*}</div>"
   ]
  },
  {
   "cell_type": "markdown",
   "metadata": {},
   "source": [
    " ## <span style=color:red><b><u>EXERCISE - 1</u></b></span>\n"
   ]
  },
  {
   "cell_type": "markdown",
   "metadata": {},
   "source": [
    "L'exercici consisteix a crear un programa que et classifiqui una variable numèrica en funció de l’escala Suspès/Aprovat/Notable/Excel·lent."
   ]
  },
  {
   "cell_type": "markdown",
   "metadata": {},
   "source": [
    "## Uso función - Ejercicio 1"
   ]
  },
  {
   "cell_type": "code",
   "execution_count": 1,
   "metadata": {
    "ExecuteTime": {
     "end_time": "2021-03-30T22:55:30.470956Z",
     "start_time": "2021-03-30T22:55:30.453968Z"
    }
   },
   "outputs": [
    {
     "name": "stdout",
     "output_type": "stream",
     "text": [
      "Nota no vàlida.\n",
      "Suspès\n",
      "Notable\n",
      "Nota no vàlida.\n"
     ]
    }
   ],
   "source": [
    "def posar_nota(nota_num):\n",
    "    if nota_num < 0 or nota_num > 10:\n",
    "        return \"Nota no vàlida.\"\n",
    "    elif nota_num < 5:\n",
    "        return \"Suspès\"\n",
    "    elif nota_num < 7:\n",
    "        return \"Aprovat\"\n",
    "    elif nota_num < 9:\n",
    "        return \"Notable\"\n",
    "    elif nota_num <= 10:\n",
    "        return \"Excel·lent\"\n",
    "    \n",
    "# Exemples d'ús\n",
    "print(posar_nota(-1))\n",
    "print(posar_nota(0))\n",
    "print(posar_nota(8))\n",
    "print(posar_nota(11))"
   ]
  },
  {
   "cell_type": "markdown",
   "metadata": {},
   "source": [
    "## - Exercici 1 opcio \"a\""
   ]
  },
  {
   "cell_type": "code",
   "execution_count": 10,
   "metadata": {
    "ExecuteTime": {
     "end_time": "2021-02-15T16:20:46.036762Z",
     "start_time": "2021-02-15T16:20:46.012827Z"
    }
   },
   "outputs": [
    {
     "name": "stdout",
     "output_type": "stream",
     "text": [
      "hay una nota no valida dentro del rango\n",
      "hay una nota no valida dentro del rango\n"
     ]
    },
    {
     "data": {
      "text/plain": [
       "['Aprovat',\n",
       " 'NaN',\n",
       " 'Notable',\n",
       " 'Excellent',\n",
       " 'NaN',\n",
       " 'Aprovat',\n",
       " 'Excellent',\n",
       " 'Aprovat',\n",
       " 'Aprovat',\n",
       " 'Notable']"
      ]
     },
     "execution_count": 10,
     "metadata": {},
     "output_type": "execute_result"
    }
   ],
   "source": [
    "def convierte_notas(*notas):    \n",
    "    '''\n",
    "    convierte una nota (variable numerica)o lista de notas a variables categoricas\n",
    "    0-5(not included): Suspens\n",
    "    5-7(not included): Aprovat\n",
    "    7-9(not included): Notable\n",
    "    >9:Excellent\n",
    "    '''\n",
    "    notas_categ=[]    \n",
    "    for valor in notas:        \n",
    "        if valor>10 or valor<0:\n",
    "            print('hay una nota no valida dentro del rango')\n",
    "            notas_categ.append('NaN')\n",
    "        elif valor<5:\n",
    "            notas_categ.append('Suspens')\n",
    "        elif valor>=5 and valor <7:\n",
    "            notas_categ.append('Aprovat')            \n",
    "        elif valor>=7 and valor <9:\n",
    "            notas_categ.append('Notable')            \n",
    "        else:\n",
    "            notas_categ.append('Excellent')    \n",
    "            \n",
    "    return notas_categ\n",
    "\n",
    "convierte_notas(5,67,8,9,86,5,10,5.4,6.1,8.1)"
   ]
  },
  {
   "cell_type": "markdown",
   "metadata": {},
   "source": [
    "## - Exercici 1 opcio \"b\""
   ]
  },
  {
   "cell_type": "code",
   "execution_count": 3,
   "metadata": {
    "ExecuteTime": {
     "end_time": "2021-02-15T16:03:53.229462Z",
     "start_time": "2021-02-15T16:03:48.910019Z"
    }
   },
   "outputs": [
    {
     "name": "stdout",
     "output_type": "stream",
     "text": [
      "¿Qué nota tienes? 2.35\n",
      "Has suspendido\n"
     ]
    }
   ],
   "source": [
    "nota = float(input('¿Qué nota tienes? '))\n",
    "\n",
    "if nota >= 9:\n",
    "    print('¡Has sacado un excelente!')\n",
    "elif nota >=7:\n",
    "    print('¡Has sacado un notable!')\n",
    "elif nota >=5:\n",
    "    print('¡Has aprobado!')\n",
    "else:\n",
    "    print('Has suspendido')"
   ]
  },
  {
   "cell_type": "markdown",
   "metadata": {},
   "source": [
    "## - Exercici 1 opcio \"c\""
   ]
  },
  {
   "cell_type": "code",
   "execution_count": 19,
   "metadata": {
    "ExecuteTime": {
     "end_time": "2021-02-15T16:45:58.418725Z",
     "start_time": "2021-02-15T16:45:54.475278Z"
    }
   },
   "outputs": [
    {
     "name": "stdout",
     "output_type": "stream",
     "text": [
      "Introduzca una nota: 2,5\n",
      "Tendrías que haber introducido un número, por favor vuelve a ejecutar el programa.\n"
     ]
    }
   ],
   "source": [
    "try:\n",
    "\n",
    "    i=11\n",
    "    while i<0 or i>10:\n",
    "        i=float(input('Introduzca una nota: '))\n",
    "        if i<0 or i>10:\n",
    "            print('Por favor introduzca un número entre 0 y 10 para ser evaluado.')\n",
    "        elif i<5:\n",
    "            print('La nota es: Suspenso')\n",
    "        elif i<7:\n",
    "            print('La nota es: Aprobado')\n",
    "        elif i<9:\n",
    "            print('La nota es: Notable')\n",
    "        elif i<=10:\n",
    "            print('/n La nota es: Excelente')\n",
    "\n",
    "except:\n",
    "    print('Tendrías que haber introducido un número, por favor vuelve a ejecutar el programa.')"
   ]
  },
  {
   "cell_type": "markdown",
   "metadata": {},
   "source": [
    "## - Exercici 1 opcio \"d\""
   ]
  },
  {
   "cell_type": "code",
   "execution_count": 39,
   "metadata": {
    "ExecuteTime": {
     "end_time": "2021-02-15T17:07:09.940671Z",
     "start_time": "2021-02-15T17:07:09.935685Z"
    }
   },
   "outputs": [],
   "source": [
    "def nota_escalada(nota:int)->str:\n",
    "    if nota < 0:\n",
    "        print('Error')\n",
    "    elif nota < 5:\n",
    "        return 'Suspès'\n",
    "    elif nota < 7:\n",
    "        return 'Aprovat'\n",
    "    elif nota < 9:\n",
    "        return 'Notable'\n",
    "    else:\n",
    "        return 'Excel·lent'"
   ]
  },
  {
   "cell_type": "code",
   "execution_count": 40,
   "metadata": {
    "ExecuteTime": {
     "end_time": "2021-02-15T17:07:28.750345Z",
     "start_time": "2021-02-15T17:07:28.744361Z"
    }
   },
   "outputs": [
    {
     "data": {
      "text/plain": [
       "[' 0: Suspès',\n",
       " ' 1: Suspès',\n",
       " ' 2: Suspès',\n",
       " ' 3: Suspès',\n",
       " ' 4: Suspès',\n",
       " ' 5: Aprovat',\n",
       " ' 6: Aprovat',\n",
       " ' 7: Notable',\n",
       " ' 8: Notable',\n",
       " ' 9: Excel·lent',\n",
       " ' 10: Excel·lent']"
      ]
     },
     "execution_count": 40,
     "metadata": {},
     "output_type": "execute_result"
    }
   ],
   "source": [
    "[f' {i}: {nota_escalada(i)}' for i in range(11)]"
   ]
  },
  {
   "cell_type": "markdown",
   "metadata": {},
   "source": [
    "## - Exercici 1 opcio \"e\""
   ]
  },
  {
   "cell_type": "code",
   "execution_count": 2,
   "metadata": {
    "ExecuteTime": {
     "end_time": "2021-03-17T17:31:10.549111Z",
     "start_time": "2021-03-17T17:31:10.541127Z"
    }
   },
   "outputs": [],
   "source": [
    "## Generem la funció (notes del 0 al 10)\n",
    "def fun(nota):\n",
    "    if nota < 5: print (\"Suspès\")\n",
    "    elif 5 <= nota < 6.5: print (\"Aprovat\")\n",
    "    elif 6.5 <= nota <= 8.5: print (\"Notable\")\n",
    "    else: print (\"Excel·lent\")"
   ]
  },
  {
   "cell_type": "code",
   "execution_count": 22,
   "metadata": {
    "ExecuteTime": {
     "end_time": "2021-03-16T18:20:24.220596Z",
     "start_time": "2021-03-16T18:20:24.213615Z"
    }
   },
   "outputs": [
    {
     "name": "stdout",
     "output_type": "stream",
     "text": [
      "Suspès\n",
      "0.1\n"
     ]
    }
   ],
   "source": [
    "## Provem la funció\n",
    "import random as rand\n",
    "\n",
    "nota = rand.random()#*10\n",
    "fun(nota)  \n",
    "print (round(nota,1))"
   ]
  },
  {
   "cell_type": "code",
   "execution_count": 21,
   "metadata": {
    "ExecuteTime": {
     "end_time": "2021-03-16T18:19:01.088489Z",
     "start_time": "2021-03-16T18:19:01.078516Z"
    }
   },
   "outputs": [
    {
     "name": "stdout",
     "output_type": "stream",
     "text": [
      "Suspès\n",
      "2\n"
     ]
    }
   ],
   "source": [
    "## Provem la funció\n",
    "import random as rand\n",
    "\n",
    "nota = rand.randrange(0, 10)\n",
    "fun(nota)  \n",
    "print (round(nota,1))"
   ]
  },
  {
   "cell_type": "code",
   "execution_count": 3,
   "metadata": {
    "ExecuteTime": {
     "end_time": "2021-03-17T17:31:14.502705Z",
     "start_time": "2021-03-17T17:31:14.488743Z"
    }
   },
   "outputs": [
    {
     "name": "stdout",
     "output_type": "stream",
     "text": [
      "Notable\n",
      "7.7\n"
     ]
    }
   ],
   "source": [
    "## Provem la funció\n",
    "import random as rand\n",
    "\n",
    "nota = rand.uniform(0, 10)\n",
    "fun(nota)  \n",
    "print (round(nota,1))"
   ]
  },
  {
   "cell_type": "markdown",
   "metadata": {},
   "source": [
    "## - Exercici 1 opcio \"f\""
   ]
  },
  {
   "cell_type": "code",
   "execution_count": 2,
   "metadata": {
    "ExecuteTime": {
     "end_time": "2021-03-21T16:51:58.780714Z",
     "start_time": "2021-03-21T16:51:58.759736Z"
    }
   },
   "outputs": [
    {
     "name": "stdout",
     "output_type": "stream",
     "text": [
      "La nota 5.0 és un Aprovat\n",
      "La nota 5.6 és un Aprovat\n",
      "La nota 7.8 és un Aprovat\n",
      "La nota 9.4 és un Excel·lent\n",
      "L'argument no és un nombre entre 0 i 10\n",
      "L'argument no és un nombre\n"
     ]
    }
   ],
   "source": [
    "def nota(num):\n",
    "    try: \n",
    "        if num < 5:\n",
    "            print (\"La nota \" + str(num) + \" és un Suspès\")\n",
    "        elif num >= 5 and num < 8:\n",
    "            print (\"La nota \" + str(num) + \" és un Aprovat\")\n",
    "        elif num >= 7 and num < 9:\n",
    "            print (\"La nota \" + str(num) + \" és un Notable\")\n",
    "        elif num >= 9 and num <= 10:\n",
    "            print (\"La nota \" + str(num) + \" és un Excel·lent\")\n",
    "        else:\n",
    "            print (\"L'argument no és un nombre entre 0 i 10\")\n",
    "    except TypeError:\n",
    "        print (\"L'argument no és un nombre\")       \n",
    "               \n",
    "nota(5.0)\n",
    "nota(5.6)\n",
    "nota(7.8)\n",
    "nota(9.4)\n",
    "nota(12)\n",
    "nota(\"Gos\")"
   ]
  },
  {
   "cell_type": "markdown",
   "metadata": {},
   "source": [
    " ## <span style=color:red><b><u>EXERCISE - 2</u></b></span>"
   ]
  },
  {
   "cell_type": "markdown",
   "metadata": {},
   "source": [
    "Utilitzant el següent tutorial [Programiz: Python Input, Output and Import](https://www.programiz.com/python-programming/input-output-import) crea un programa que et pregunti dos números. T’ha de mostrar un missatge dient si el primer és més gran, el segon és més gran o són iguals."
   ]
  },
  {
   "cell_type": "code",
   "execution_count": 2,
   "metadata": {
    "ExecuteTime": {
     "end_time": "2021-01-21T17:50:19.501431Z",
     "start_time": "2021-01-21T17:50:19.495447Z"
    }
   },
   "outputs": [],
   "source": [
    "# Definim primer una funció que ens ajudarà a saber si l'input es vàlid.\n",
    "\n",
    "def is_num(variable):\n",
    "    \"\"\"Comprova que l'argument sigui un número\"\"\"\n",
    "    try:\n",
    "        numero = float(variable)\n",
    "    except:\n",
    "        print(f\"{variable} no és un número vàlid\")\n",
    "        return False\n",
    "    else:\n",
    "        return True"
   ]
  },
  {
   "cell_type": "code",
   "execution_count": 11,
   "metadata": {
    "ExecuteTime": {
     "end_time": "2021-03-17T17:53:36.835696Z",
     "start_time": "2021-03-17T17:53:30.509847Z"
    }
   },
   "outputs": [
    {
     "name": "stdout",
     "output_type": "stream",
     "text": [
      "Escriu dos nombres i et diré quin és més gran\n",
      "Primer número: 5\n",
      "Segon número: Kumenius\n"
     ]
    },
    {
     "ename": "NameError",
     "evalue": "name 'is_num' is not defined",
     "output_type": "error",
     "traceback": [
      "\u001b[1;31m---------------------------------------------------------------------------\u001b[0m",
      "\u001b[1;31mNameError\u001b[0m                                 Traceback (most recent call last)",
      "\u001b[1;32m<ipython-input-11-9b58eb992243>\u001b[0m in \u001b[0;36m<module>\u001b[1;34m()\u001b[0m\n\u001b[0;32m      3\u001b[0m \u001b[0msegon_num\u001b[0m \u001b[1;33m=\u001b[0m \u001b[0minput\u001b[0m\u001b[1;33m(\u001b[0m\u001b[1;34m\"Segon número: \"\u001b[0m\u001b[1;33m)\u001b[0m\u001b[1;33m\u001b[0m\u001b[0m\n\u001b[0;32m      4\u001b[0m \u001b[1;33m\u001b[0m\u001b[0m\n\u001b[1;32m----> 5\u001b[1;33m \u001b[1;32mif\u001b[0m \u001b[1;33m(\u001b[0m\u001b[0mis_num\u001b[0m\u001b[1;33m(\u001b[0m\u001b[0mprimer_num\u001b[0m\u001b[1;33m)\u001b[0m \u001b[1;32mand\u001b[0m \u001b[0mis_num\u001b[0m\u001b[1;33m(\u001b[0m\u001b[0msegon_num\u001b[0m\u001b[1;33m)\u001b[0m\u001b[1;33m)\u001b[0m\u001b[1;33m:\u001b[0m\u001b[1;33m\u001b[0m\u001b[0m\n\u001b[0m\u001b[0;32m      6\u001b[0m     \u001b[1;32mif\u001b[0m \u001b[0mprimer_num\u001b[0m \u001b[1;33m==\u001b[0m \u001b[0msegon_num\u001b[0m\u001b[1;33m:\u001b[0m\u001b[1;33m\u001b[0m\u001b[0m\n\u001b[0;32m      7\u001b[0m         \u001b[0mprint\u001b[0m\u001b[1;33m(\u001b[0m\u001b[1;34m\"Els números són iguals.\"\u001b[0m\u001b[1;33m)\u001b[0m\u001b[1;33m\u001b[0m\u001b[0m\n",
      "\u001b[1;31mNameError\u001b[0m: name 'is_num' is not defined"
     ]
    }
   ],
   "source": [
    "print(\"Escriu dos nombres i et diré quin és més gran\")\n",
    "primer_num = input(\"Primer número: \")\n",
    "segon_num = input(\"Segon número: \")\n",
    "\n",
    "if (is_num(primer_num) and is_num(segon_num)):\n",
    "    if primer_num == segon_num:\n",
    "        print(\"Els números són iguals.\")\n",
    "    elif primer_num > segon_num:\n",
    "        print(\"El primer número és més gran.\")\n",
    "    else:\n",
    "        print(\"El segon número és més gran.\")"
   ]
  },
  {
   "cell_type": "markdown",
   "metadata": {},
   "source": [
    "## - Exercici 2 opció \"a\""
   ]
  },
  {
   "cell_type": "code",
   "execution_count": 2,
   "metadata": {
    "ExecuteTime": {
     "end_time": "2021-03-18T14:57:15.966477Z",
     "start_time": "2021-03-18T14:56:39.914202Z"
    }
   },
   "outputs": [
    {
     "name": "stdout",
     "output_type": "stream",
     "text": [
      "Introduce el primer número: alex\n"
     ]
    },
    {
     "ename": "ValueError",
     "evalue": "could not convert string to float: 'alex'",
     "output_type": "error",
     "traceback": [
      "\u001b[1;31m---------------------------------------------------------------------------\u001b[0m",
      "\u001b[1;31mValueError\u001b[0m                                Traceback (most recent call last)",
      "\u001b[1;32m<ipython-input-2-204bc1d170ab>\u001b[0m in \u001b[0;36m<module>\u001b[1;34m()\u001b[0m\n\u001b[1;32m----> 1\u001b[1;33m \u001b[0mnumero_1\u001b[0m\u001b[1;33m=\u001b[0m\u001b[0mfloat\u001b[0m\u001b[1;33m(\u001b[0m\u001b[0minput\u001b[0m\u001b[1;33m(\u001b[0m\u001b[1;34m'Introduce el primer número: '\u001b[0m\u001b[1;33m)\u001b[0m\u001b[1;33m)\u001b[0m\u001b[1;33m\u001b[0m\u001b[0m\n\u001b[0m\u001b[0;32m      2\u001b[0m \u001b[0mnumero_2\u001b[0m\u001b[1;33m=\u001b[0m\u001b[0mfloat\u001b[0m\u001b[1;33m(\u001b[0m\u001b[0minput\u001b[0m\u001b[1;33m(\u001b[0m\u001b[1;34m'Introduce el segundo número: '\u001b[0m\u001b[1;33m)\u001b[0m\u001b[1;33m)\u001b[0m\u001b[1;33m\u001b[0m\u001b[0m\n\u001b[0;32m      3\u001b[0m \u001b[1;33m\u001b[0m\u001b[0m\n\u001b[0;32m      4\u001b[0m \u001b[1;32mif\u001b[0m \u001b[0mnumero_1\u001b[0m\u001b[1;33m>\u001b[0m\u001b[0mnumero_2\u001b[0m\u001b[1;33m:\u001b[0m\u001b[1;33m\u001b[0m\u001b[0m\n\u001b[0;32m      5\u001b[0m     \u001b[0mprint\u001b[0m\u001b[1;33m(\u001b[0m\u001b[1;34m'El primer número es mayor que el segundo'\u001b[0m\u001b[1;33m)\u001b[0m\u001b[1;33m\u001b[0m\u001b[0m\n",
      "\u001b[1;31mValueError\u001b[0m: could not convert string to float: 'alex'"
     ]
    }
   ],
   "source": [
    "numero_1=float(input('Introduce el primer número: '))\n",
    "numero_2=float(input('Introduce el segundo número: '))\n",
    "\n",
    "if numero_1>numero_2:\n",
    "    print('El primer número es mayor que el segundo')\n",
    "elif numero_1==numero_2:\n",
    "    print('Los números son iguales')\n",
    "else:\n",
    "    print('El primer número es menor que el segundo ')"
   ]
  },
  {
   "cell_type": "markdown",
   "metadata": {},
   "source": [
    "## - Exercici 2 opció \"b\""
   ]
  },
  {
   "cell_type": "code",
   "execution_count": 5,
   "metadata": {
    "ExecuteTime": {
     "end_time": "2021-03-18T14:58:33.956345Z",
     "start_time": "2021-03-18T14:58:33.939393Z"
    }
   },
   "outputs": [],
   "source": [
    "## Generem la funció ojo con opcion B acepta Strings tambien!!!\n",
    "\n",
    "def fun():\n",
    "    a = input(\"Enter your first number: \")\n",
    "    b = input(\"Enter your second number: \")\n",
    "    if a > b: print (\"The first number is larger\")\n",
    "    elif b > a: print (\"The second number is larger\")\n",
    "    else: print (\"Both numbers are equal\")"
   ]
  },
  {
   "cell_type": "code",
   "execution_count": 9,
   "metadata": {
    "ExecuteTime": {
     "end_time": "2021-03-17T17:53:11.560194Z",
     "start_time": "2021-03-17T17:53:11.541211Z"
    }
   },
   "outputs": [],
   "source": [
    "## Generem la funció ojo con opcion B acepta Strings tambien!!!\n",
    "\n",
    "def fun():\n",
    "    a = float(input(\"Enter your first number: \"))\n",
    "    b = input(\"Enter your second number: \")\n",
    "    if a > b: print (\"The first number is larger\")\n",
    "    elif b > a: print (\"The second number is larger\")\n",
    "    else: print (\"Both numbers are equal\")"
   ]
  },
  {
   "cell_type": "code",
   "execution_count": 6,
   "metadata": {
    "ExecuteTime": {
     "end_time": "2021-03-18T14:58:48.119295Z",
     "start_time": "2021-03-18T14:58:38.276298Z"
    }
   },
   "outputs": [
    {
     "name": "stdout",
     "output_type": "stream",
     "text": [
      "Enter your first number: Alex\n",
      "Enter your second number: Kumenius\n",
      "The second number is larger\n"
     ]
    }
   ],
   "source": [
    "## Provem la funcio\n",
    "fun()"
   ]
  },
  {
   "cell_type": "code",
   "execution_count": 41,
   "metadata": {
    "ExecuteTime": {
     "end_time": "2021-03-18T16:17:47.462260Z",
     "start_time": "2021-03-18T16:17:42.562700Z"
    }
   },
   "outputs": [
    {
     "name": "stdout",
     "output_type": "stream",
     "text": [
      "Introduïu un números: 1\n",
      "Introduïu un números: 5\n",
      "5  es mes gran\n"
     ]
    }
   ],
   "source": [
    "num1 =int(input(\"Introduïu un números: \")) #the function split() was used \n",
    "#to allow spacing between the two values when typing them\n",
    "\n",
    "num2 =int(input(\"Introduïu un números: \"))\n",
    "       \n",
    "if num1 < num2:\n",
    "       print( num2, ' es mes gran')\n",
    "\n",
    "elif num1 > num2:\n",
    "       print(num1, ' es mes gran')\n",
    "        \n",
    "else:\n",
    "       print('els números són els mateixos')"
   ]
  },
  {
   "cell_type": "markdown",
   "metadata": {},
   "source": [
    "## - Exercici 2 opció \"c\""
   ]
  },
  {
   "cell_type": "code",
   "execution_count": null,
   "metadata": {
    "ExecuteTime": {
     "start_time": "2021-03-18T16:56:50.466Z"
    }
   },
   "outputs": [],
   "source": [
    "def validaNum(num):\n",
    "    try:\n",
    "        number = float(num)\n",
    "    except:\n",
    "        print(f\"{num} no és vàlid\")\n",
    "        return False\n",
    "    else:\n",
    "        return True     \n",
    "    \n",
    "def compara(x, y):\n",
    "    \n",
    "    if validaNum(x) & validaNum(y):\n",
    "        if x > y:\n",
    "            return print(f\"{x} es major que {y}.\")\n",
    "        elif x < y:\n",
    "            return print(f\"{x} es menor que {y}.\")\n",
    "        else:\n",
    "            return print(f\"{x} es igual que {y}.\")\n",
    "    \n",
    "    \n",
    "def inNumbers():\n",
    "\n",
    "    firstNumber = input(\"Primer número: \")\n",
    "    secondNumber = input(\"Segón número: \")\n",
    "\n",
    "    compara (firstNumber ,secondNumber)\n",
    "    \n",
    "inNumbers()\n",
    "inNumbers()\n",
    "inNumbers()\n",
    "inNumbers()"
   ]
  },
  {
   "cell_type": "markdown",
   "metadata": {},
   "source": [
    "## - Exercici 2 opció \"d\""
   ]
  },
  {
   "cell_type": "code",
   "execution_count": 2,
   "metadata": {
    "ExecuteTime": {
     "end_time": "2021-03-18T17:22:43.537299Z",
     "start_time": "2021-03-18T17:22:34.972123Z"
    }
   },
   "outputs": [
    {
     "name": "stdout",
     "output_type": "stream",
     "text": [
      "Ingresar número 1: Alx\n",
      "Ingresar número 2: Kumenius\n",
      "Número 2 es mayor a número 1\n"
     ]
    }
   ],
   "source": [
    "numero1 = input('Ingresar número 1: ')\n",
    "numero2 = input('Ingresar número 2: ')\n",
    "\n",
    "if numero1 > numero2:\n",
    "    print('Número 1 es mayor a número 2')\n",
    "elif numero2 > numero1:\n",
    "    print('Número 2 es mayor a número 1')\n",
    "else:\n",
    "    print('Número 1 y número 2 son iguales')"
   ]
  },
  {
   "cell_type": "code",
   "execution_count": 22,
   "metadata": {
    "ExecuteTime": {
     "end_time": "2021-03-18T18:01:34.132693Z",
     "start_time": "2021-03-18T18:01:29.700434Z"
    }
   },
   "outputs": [
    {
     "name": "stdout",
     "output_type": "stream",
     "text": [
      "Introduce un número real x = a\n",
      "Introduce otro número real y = b\n",
      "¿Pero que haces? Dije un NÚMERO!!\n"
     ]
    }
   ],
   "source": [
    "x = input(\"Introduce un número real x = \")\n",
    "y = input(\"Introduce otro número real y = \")\n",
    "try:\n",
    "    x = float(x)\n",
    "    y = float(y)\n",
    "    if x > y:\n",
    "        print (\"X es mayor que y\")\n",
    "    elif y > x:\n",
    "        print(\"Y es mayor que X\")\n",
    "    else:\n",
    "        print(\"X es igual a Y\")\n",
    "except:\n",
    "    print(\"¿Pero que haces? Dije un NÚMERO!!\")"
   ]
  },
  {
   "cell_type": "markdown",
   "metadata": {},
   "source": [
    "## - Exercici 2 opció \"e\""
   ]
  },
  {
   "cell_type": "code",
   "execution_count": 27,
   "metadata": {
    "ExecuteTime": {
     "end_time": "2021-03-18T18:16:17.666899Z",
     "start_time": "2021-03-18T18:16:04.235415Z"
    }
   },
   "outputs": [
    {
     "name": "stdout",
     "output_type": "stream",
     "text": [
      "Introdueix el primer nombre: 51\n",
      "Introdueix el segon nombre: 45\n",
      "El primer nombre és més gran\n"
     ]
    }
   ],
   "source": [
    "def comparar_2():\n",
    "    try:\n",
    "        x = float(input('Introdueix el primer nombre: '))\n",
    "        y = float(input('Introdueix el segon nombre: '))\n",
    "        if x > y:\n",
    "            print(\"El primer nombre és més gran\")\n",
    "        elif x < y:\n",
    "            print(\"El segon nombre és més gran\")\n",
    "        else:\n",
    "            print(\"Els dos nombres son igual\")\n",
    "    except ValueError:\n",
    "        print(\"Algun input no és un nombre\")\n",
    "        \n",
    "comparar_2()"
   ]
  },
  {
   "cell_type": "markdown",
   "metadata": {},
   "source": [
    "## - Exercici 2 opció \"f\""
   ]
  },
  {
   "cell_type": "code",
   "execution_count": 10,
   "metadata": {
    "ExecuteTime": {
     "end_time": "2021-03-21T17:00:08.428951Z",
     "start_time": "2021-03-21T17:00:05.770022Z"
    }
   },
   "outputs": [
    {
     "name": "stdout",
     "output_type": "stream",
     "text": [
      "Entra el primer número:5\n",
      "Entra el segon número:9\n"
     ]
    },
    {
     "data": {
      "text/plain": [
       "'El segon número 9.0 és més gran'"
      ]
     },
     "execution_count": 10,
     "metadata": {},
     "output_type": "execute_result"
    }
   ],
   "source": [
    "def mesGran(primer, segon):\n",
    "    if primer > segon: return \"El primer número {} és més gran\".format(primer)\n",
    "    elif primer < segon: return \"El segon número {} és més gran\".format(segon)\n",
    "    elif primer == segon: return \"El dos números son iguals\"\n",
    "    else: return \"El valors introduïts no és poden avaluar\"\n",
    "    \n",
    "# convertim a float l'input perque funcioni correctament, al jupyter notebook tornava string\n",
    "mesGran(float(input(\"Entra el primer número:\")), float(input(\"Entra el segon número:\")))"
   ]
  },
  {
   "cell_type": "markdown",
   "metadata": {},
   "source": [
    "## - Exercici 2 opció \"g\""
   ]
  },
  {
   "cell_type": "code",
   "execution_count": 8,
   "metadata": {
    "ExecuteTime": {
     "end_time": "2021-03-21T16:56:46.779409Z",
     "start_time": "2021-03-21T16:56:44.346326Z"
    }
   },
   "outputs": [
    {
     "name": "stdout",
     "output_type": "stream",
     "text": [
      "Introdueix un numero 5\n",
      "Introdueix un segon numero 5\n",
      "5  y  5 son iguals\n"
     ]
    }
   ],
   "source": [
    "x1 = int(input('Introdueix un numero '))\n",
    "x2 = int(input('Introdueix un segon numero '))\n",
    "\n",
    "if x1 == x2:\n",
    "    print( x1 , ' y ', x2 ,'son iguals')\n",
    "elif x1 > x2:\n",
    "    print( x1 , ' es mes gran que ', x2 )\n",
    "elif x1 < x2:\n",
    "    print( x1 , ' es mes petit que ', x2 )"
   ]
  },
  {
   "cell_type": "markdown",
   "metadata": {},
   "source": [
    " ## <span style=color:red><b><u>EXERCISE - 3</u></b></span>"
   ]
  },
  {
   "cell_type": "markdown",
   "metadata": {},
   "source": [
    "Crea un programa que et pregunti el teu nom, i et demani un número. Si el número és 0, hauria de mostrar un missatge d’error. En cas contrari, hauria de mostrar el nom repetit tants cops com indiqui el número. Per exemple, “Joan Joan Joan”."
   ]
  },
  {
   "cell_type": "code",
   "execution_count": 18,
   "metadata": {
    "ExecuteTime": {
     "end_time": "2021-03-17T17:59:21.580584Z",
     "start_time": "2021-03-17T17:59:10.221711Z"
    }
   },
   "outputs": [
    {
     "name": "stdout",
     "output_type": "stream",
     "text": [
      "Quin és el teu nom? Alex\n",
      "Quants cops repeteixo el teu nom? 0\n",
      "No puc repetir el teu nom 0 cops.\n"
     ]
    }
   ],
   "source": [
    "nom_usuari = input(\"Quin és el teu nom? \")\n",
    "\n",
    "num_repeticions = int(input(\"Quants cops repeteixo el teu nom? \"))\n",
    "\n",
    "if num_repeticions <= 0:\n",
    "    print(f\"No puc repetir el teu nom {num_repeticions} cops.\")\n",
    "else:\n",
    "    for repeticio in range(num_repeticions):\n",
    "        print(nom_usuari)"
   ]
  },
  {
   "cell_type": "code",
   "execution_count": 6,
   "metadata": {
    "ExecuteTime": {
     "end_time": "2021-02-15T16:07:31.474538Z",
     "start_time": "2021-02-15T16:07:26.805031Z"
    }
   },
   "outputs": [
    {
     "name": "stdout",
     "output_type": "stream",
     "text": [
      "¿Cómo te llamas? kman\n",
      "Escribe un número: 0\n",
      "Error: el número introducido no es válido\n"
     ]
    }
   ],
   "source": [
    "# programa que te pregunta nombre y número\n",
    "nombre = input('¿Cómo te llamas? ')\n",
    "num = int(input('Escribe un número: '))\n",
    "nom = nombre + \" \"\n",
    "if num == 0:\n",
    "    print('Error: el número introducido no es válido')\n",
    "else:\n",
    "    print((nom)*(num))"
   ]
  },
  {
   "cell_type": "markdown",
   "metadata": {},
   "source": [
    "## - Exercici 3, opcio \"a\""
   ]
  },
  {
   "cell_type": "code",
   "execution_count": 25,
   "metadata": {
    "ExecuteTime": {
     "end_time": "2021-03-18T15:14:55.505019Z",
     "start_time": "2021-03-18T15:14:40.163195Z"
    }
   },
   "outputs": [
    {
     "name": "stdout",
     "output_type": "stream",
     "text": [
      "Introduce tu nombre: 1\n",
      "Introduce un número mayor que cero: Alex\n"
     ]
    },
    {
     "ename": "ValueError",
     "evalue": "invalid literal for int() with base 10: 'Alex'",
     "output_type": "error",
     "traceback": [
      "\u001b[1;31m---------------------------------------------------------------------------\u001b[0m",
      "\u001b[1;31mValueError\u001b[0m                                Traceback (most recent call last)",
      "\u001b[1;32m<ipython-input-25-8e9cb87e9f1d>\u001b[0m in \u001b[0;36m<module>\u001b[1;34m()\u001b[0m\n\u001b[0;32m      1\u001b[0m \u001b[0mnombre\u001b[0m\u001b[1;33m=\u001b[0m\u001b[1;33m(\u001b[0m\u001b[0mstr\u001b[0m\u001b[1;33m(\u001b[0m\u001b[0minput\u001b[0m\u001b[1;33m(\u001b[0m\u001b[1;34m'Introduce tu nombre: '\u001b[0m\u001b[1;33m)\u001b[0m\u001b[1;33m)\u001b[0m\u001b[1;33m)\u001b[0m\u001b[1;33m\u001b[0m\u001b[0m\n\u001b[1;32m----> 2\u001b[1;33m \u001b[0mnumero\u001b[0m\u001b[1;33m=\u001b[0m\u001b[0mint\u001b[0m\u001b[1;33m(\u001b[0m\u001b[0minput\u001b[0m\u001b[1;33m(\u001b[0m\u001b[1;34m'Introduce un número mayor que cero: '\u001b[0m\u001b[1;33m)\u001b[0m\u001b[1;33m)\u001b[0m\u001b[1;33m\u001b[0m\u001b[0m\n\u001b[0m\u001b[0;32m      3\u001b[0m \u001b[1;32mif\u001b[0m \u001b[0mnumero\u001b[0m\u001b[1;33m==\u001b[0m\u001b[1;36m0\u001b[0m\u001b[1;33m:\u001b[0m\u001b[1;33m\u001b[0m\u001b[0m\n\u001b[0;32m      4\u001b[0m     \u001b[0mprint\u001b[0m\u001b[1;33m(\u001b[0m\u001b[1;34m'Vuelve a ejecutar el programa, por favor!!'\u001b[0m\u001b[1;33m)\u001b[0m\u001b[1;33m\u001b[0m\u001b[0m\n\u001b[0;32m      5\u001b[0m \u001b[1;33m\u001b[0m\u001b[0m\n",
      "\u001b[1;31mValueError\u001b[0m: invalid literal for int() with base 10: 'Alex'"
     ]
    }
   ],
   "source": [
    "nombre=(str(input('Introduce tu nombre: ')))\n",
    "numero=int(input('Introduce un número mayor que cero: '))\n",
    "if numero==0:\n",
    "    print('Vuelve a ejecutar el programa, por favor!!')\n",
    "\n",
    "print((nombre+' ')*numero)"
   ]
  },
  {
   "cell_type": "markdown",
   "metadata": {},
   "source": [
    "## - Exercici 3, opcio \"b\""
   ]
  },
  {
   "cell_type": "code",
   "execution_count": 41,
   "metadata": {
    "ExecuteTime": {
     "end_time": "2021-02-15T17:10:30.990134Z",
     "start_time": "2021-02-15T17:10:30.985145Z"
    }
   },
   "outputs": [],
   "source": [
    "def repeteix_nom():\n",
    "    nom = input(\"Quin es el teu nom? \")\n",
    "    num = input(\"Quants cops? \")\n",
    "\n",
    "    if int(num) <= 0:\n",
    "        print(f'Error, no poden haver-hi 0 o menys repeticions')\n",
    "    else:\n",
    "        print(\" \".join([nom for _ in range(int(num))]))"
   ]
  },
  {
   "cell_type": "code",
   "execution_count": 43,
   "metadata": {
    "ExecuteTime": {
     "end_time": "2021-02-15T17:11:04.537112Z",
     "start_time": "2021-02-15T17:10:59.476138Z"
    }
   },
   "outputs": [
    {
     "name": "stdout",
     "output_type": "stream",
     "text": [
      "Quin es el teu nom? k\n",
      "Quants cops? 0\n",
      "Error, no poden haver-hi 0 o menys repeticions\n"
     ]
    }
   ],
   "source": [
    "repeteix_nom()"
   ]
  },
  {
   "cell_type": "markdown",
   "metadata": {},
   "source": [
    "## - Exercici 3, opcio \"c\""
   ]
  },
  {
   "cell_type": "code",
   "execution_count": 49,
   "metadata": {
    "ExecuteTime": {
     "end_time": "2021-02-15T17:40:59.988239Z",
     "start_time": "2021-02-15T17:40:54.585692Z"
    }
   },
   "outputs": [
    {
     "name": "stdout",
     "output_type": "stream",
     "text": [
      "Como te llamas:l\n",
      "Introduce un numero:0\n",
      "Error. Has introducido 0\n"
     ]
    }
   ],
   "source": [
    "try:\n",
    "    nombre=str(input('Como te llamas:'))\n",
    "    numero=abs(int(input('Introduce un numero:')))\n",
    "    if numero == 0:\n",
    "        print(\"Error. Has introducido 0\")\n",
    "    else:\n",
    "        #lis=[nombre for x in range(numero)]\n",
    "        #print(lis)\n",
    "        #for  x in range(numero):\n",
    "        #    print(nombre)\n",
    "        nom_num=''\n",
    "        for x in range(numero):\n",
    "            nom_num=nom_num+' '+nombre\n",
    "        print (nom_num)\n",
    "    \n",
    "except:\n",
    "     print(\"Dato introducido incorrecto por favor revisa\")"
   ]
  },
  {
   "cell_type": "markdown",
   "metadata": {},
   "source": [
    "## - Exercici 3, opcio \"d\""
   ]
  },
  {
   "cell_type": "code",
   "execution_count": 11,
   "metadata": {
    "ExecuteTime": {
     "end_time": "2021-03-18T15:05:50.888590Z",
     "start_time": "2021-03-18T15:05:50.868634Z"
    }
   },
   "outputs": [],
   "source": [
    "## Generem la funció\n",
    "def fun():\n",
    "    \n",
    "    name = input(\"Enter your name: \")\n",
    "    num = input(\"Enter your number: \")\n",
    "    \n",
    "    if int(num) <= 0: raise TypeError(\"Only positive integers allowed\")\n",
    "    else: print((name + \" \")*int(num))"
   ]
  },
  {
   "cell_type": "code",
   "execution_count": 20,
   "metadata": {
    "ExecuteTime": {
     "end_time": "2021-03-18T15:12:28.406458Z",
     "start_time": "2021-03-18T15:12:28.393455Z"
    }
   },
   "outputs": [],
   "source": [
    "## Generem la funció\n",
    "def fun():\n",
    "    \n",
    "    name = input(\"Enter your name: \")\n",
    "    num = int(input(\"Enter your number: \"))\n",
    "    \n",
    "    if int(num) <= 0: raise TypeError(\"Only positive integers allowed\")\n",
    "    else: print((name + \" \") * num)"
   ]
  },
  {
   "cell_type": "code",
   "execution_count": 21,
   "metadata": {
    "ExecuteTime": {
     "end_time": "2021-03-18T15:12:38.022353Z",
     "start_time": "2021-03-18T15:12:32.042688Z"
    }
   },
   "outputs": [
    {
     "name": "stdout",
     "output_type": "stream",
     "text": [
      "Enter your name: A\n",
      "Enter your number: 0\n"
     ]
    },
    {
     "ename": "TypeError",
     "evalue": "Only positive integers allowed",
     "output_type": "error",
     "traceback": [
      "\u001b[1;31m---------------------------------------------------------------------------\u001b[0m",
      "\u001b[1;31mTypeError\u001b[0m                                 Traceback (most recent call last)",
      "\u001b[1;32m<ipython-input-21-d9f830ba61f1>\u001b[0m in \u001b[0;36m<module>\u001b[1;34m()\u001b[0m\n\u001b[1;32m----> 1\u001b[1;33m \u001b[0mfun\u001b[0m\u001b[1;33m(\u001b[0m\u001b[1;33m)\u001b[0m\u001b[1;33m\u001b[0m\u001b[0m\n\u001b[0m",
      "\u001b[1;32m<ipython-input-20-7f35d7f99f52>\u001b[0m in \u001b[0;36mfun\u001b[1;34m()\u001b[0m\n\u001b[0;32m      5\u001b[0m     \u001b[0mnum\u001b[0m \u001b[1;33m=\u001b[0m \u001b[0mint\u001b[0m\u001b[1;33m(\u001b[0m\u001b[0minput\u001b[0m\u001b[1;33m(\u001b[0m\u001b[1;34m\"Enter your number: \"\u001b[0m\u001b[1;33m)\u001b[0m\u001b[1;33m)\u001b[0m\u001b[1;33m\u001b[0m\u001b[0m\n\u001b[0;32m      6\u001b[0m \u001b[1;33m\u001b[0m\u001b[0m\n\u001b[1;32m----> 7\u001b[1;33m     \u001b[1;32mif\u001b[0m \u001b[0mint\u001b[0m\u001b[1;33m(\u001b[0m\u001b[0mnum\u001b[0m\u001b[1;33m)\u001b[0m \u001b[1;33m<=\u001b[0m \u001b[1;36m0\u001b[0m\u001b[1;33m:\u001b[0m \u001b[1;32mraise\u001b[0m \u001b[0mTypeError\u001b[0m\u001b[1;33m(\u001b[0m\u001b[1;34m\"Only positive integers allowed\"\u001b[0m\u001b[1;33m)\u001b[0m\u001b[1;33m\u001b[0m\u001b[0m\n\u001b[0m\u001b[0;32m      8\u001b[0m     \u001b[1;32melse\u001b[0m\u001b[1;33m:\u001b[0m \u001b[0mprint\u001b[0m\u001b[1;33m(\u001b[0m\u001b[1;33m(\u001b[0m\u001b[0mname\u001b[0m \u001b[1;33m+\u001b[0m \u001b[1;34m\" \"\u001b[0m\u001b[1;33m)\u001b[0m \u001b[1;33m*\u001b[0m \u001b[0mnum\u001b[0m\u001b[1;33m)\u001b[0m\u001b[1;33m\u001b[0m\u001b[0m\n",
      "\u001b[1;31mTypeError\u001b[0m: Only positive integers allowed"
     ]
    }
   ],
   "source": [
    "fun()"
   ]
  },
  {
   "cell_type": "code",
   "execution_count": 28,
   "metadata": {
    "ExecuteTime": {
     "end_time": "2021-03-18T15:21:51.075015Z",
     "start_time": "2021-03-18T15:21:51.063047Z"
    }
   },
   "outputs": [],
   "source": [
    "## Generem la funció (1-dimension lists)\n",
    "def fun(llista):\n",
    "    for ii in range(int(len(llista)/2)):\n",
    "        if llista[ii] == llista[-1-ii]: pass\n",
    "        else: \n",
    "            print (\"La llista no es simètrica\")\n",
    "            return None\n",
    "    print (\"La llista es simètrica\")"
   ]
  },
  {
   "cell_type": "code",
   "execution_count": 30,
   "metadata": {
    "ExecuteTime": {
     "end_time": "2021-03-18T15:22:13.718431Z",
     "start_time": "2021-03-18T15:22:13.708459Z"
    }
   },
   "outputs": [
    {
     "name": "stdout",
     "output_type": "stream",
     "text": [
      "La llista es simètrica\n"
     ]
    }
   ],
   "source": [
    "## Provem la funció cas positiu\n",
    "llista = [0, 1, 2, 3, 2, 1, 0]\n",
    "fun(llista)"
   ]
  },
  {
   "cell_type": "code",
   "execution_count": 31,
   "metadata": {
    "ExecuteTime": {
     "end_time": "2021-03-18T15:22:26.370374Z",
     "start_time": "2021-03-18T15:22:26.360399Z"
    }
   },
   "outputs": [
    {
     "name": "stdout",
     "output_type": "stream",
     "text": [
      "La llista no es simètrica\n"
     ]
    }
   ],
   "source": [
    "## Provem la funció cas positiu\n",
    "llista = [0, 1, 2, 3, 2, 1, 0,5]\n",
    "fun(llista)"
   ]
  },
  {
   "cell_type": "markdown",
   "metadata": {},
   "source": [
    "## - Exercici 3, opcio \"e\""
   ]
  },
  {
   "cell_type": "code",
   "execution_count": 43,
   "metadata": {
    "ExecuteTime": {
     "end_time": "2021-03-18T16:20:28.632498Z",
     "start_time": "2021-03-18T16:20:15.456022Z"
    }
   },
   "outputs": [
    {
     "name": "stdout",
     "output_type": "stream",
     "text": [
      "Quin és el teu nom? 5\n",
      "Quin és el teu número? Alex\n"
     ]
    },
    {
     "ename": "ValueError",
     "evalue": "invalid literal for int() with base 10: 'Alex'",
     "output_type": "error",
     "traceback": [
      "\u001b[1;31m---------------------------------------------------------------------------\u001b[0m",
      "\u001b[1;31mValueError\u001b[0m                                Traceback (most recent call last)",
      "\u001b[1;32m<ipython-input-43-0ce5938882aa>\u001b[0m in \u001b[0;36m<module>\u001b[1;34m()\u001b[0m\n\u001b[0;32m      1\u001b[0m \u001b[0mnom\u001b[0m \u001b[1;33m=\u001b[0m \u001b[0minput\u001b[0m\u001b[1;33m(\u001b[0m\u001b[1;34m'Quin és el teu nom? '\u001b[0m\u001b[1;33m)\u001b[0m\u001b[1;33m\u001b[0m\u001b[0m\n\u001b[1;32m----> 2\u001b[1;33m \u001b[0mnum\u001b[0m \u001b[1;33m=\u001b[0m \u001b[0mint\u001b[0m\u001b[1;33m(\u001b[0m\u001b[0minput\u001b[0m\u001b[1;33m(\u001b[0m\u001b[1;34m'Quin és el teu número? '\u001b[0m\u001b[1;33m)\u001b[0m\u001b[1;33m)\u001b[0m\u001b[1;33m\u001b[0m\u001b[0m\n\u001b[0m\u001b[0;32m      3\u001b[0m \u001b[1;33m\u001b[0m\u001b[0m\n\u001b[0;32m      4\u001b[0m \u001b[1;33m\u001b[0m\u001b[0m\n\u001b[0;32m      5\u001b[0m \u001b[1;32mif\u001b[0m \u001b[0mnum\u001b[0m \u001b[1;33m==\u001b[0m \u001b[1;36m0\u001b[0m\u001b[1;33m:\u001b[0m\u001b[1;33m\u001b[0m\u001b[0m\n",
      "\u001b[1;31mValueError\u001b[0m: invalid literal for int() with base 10: 'Alex'"
     ]
    }
   ],
   "source": [
    "nom = input('Quin és el teu nom? ')\n",
    "num = int(input('Quin és el teu número? '))\n",
    "\n",
    "\n",
    "if num == 0:\n",
    "    print('valor incorrecte')\n",
    "else:\n",
    "    for times in range(num):\n",
    "        print(nom)"
   ]
  },
  {
   "cell_type": "code",
   "execution_count": 43,
   "metadata": {
    "ExecuteTime": {
     "end_time": "2021-03-18T16:20:28.632498Z",
     "start_time": "2021-03-18T16:20:15.456022Z"
    }
   },
   "outputs": [
    {
     "name": "stdout",
     "output_type": "stream",
     "text": [
      "Quin és el teu nom? 5\n",
      "Quin és el teu número? Alex\n"
     ]
    },
    {
     "ename": "ValueError",
     "evalue": "invalid literal for int() with base 10: 'Alex'",
     "output_type": "error",
     "traceback": [
      "\u001b[1;31m---------------------------------------------------------------------------\u001b[0m",
      "\u001b[1;31mValueError\u001b[0m                                Traceback (most recent call last)",
      "\u001b[1;32m<ipython-input-43-0ce5938882aa>\u001b[0m in \u001b[0;36m<module>\u001b[1;34m()\u001b[0m\n\u001b[0;32m      1\u001b[0m \u001b[0mnom\u001b[0m \u001b[1;33m=\u001b[0m \u001b[0minput\u001b[0m\u001b[1;33m(\u001b[0m\u001b[1;34m'Quin és el teu nom? '\u001b[0m\u001b[1;33m)\u001b[0m\u001b[1;33m\u001b[0m\u001b[0m\n\u001b[1;32m----> 2\u001b[1;33m \u001b[0mnum\u001b[0m \u001b[1;33m=\u001b[0m \u001b[0mint\u001b[0m\u001b[1;33m(\u001b[0m\u001b[0minput\u001b[0m\u001b[1;33m(\u001b[0m\u001b[1;34m'Quin és el teu número? '\u001b[0m\u001b[1;33m)\u001b[0m\u001b[1;33m)\u001b[0m\u001b[1;33m\u001b[0m\u001b[0m\n\u001b[0m\u001b[0;32m      3\u001b[0m \u001b[1;33m\u001b[0m\u001b[0m\n\u001b[0;32m      4\u001b[0m \u001b[1;33m\u001b[0m\u001b[0m\n\u001b[0;32m      5\u001b[0m \u001b[1;32mif\u001b[0m \u001b[0mnum\u001b[0m \u001b[1;33m==\u001b[0m \u001b[1;36m0\u001b[0m\u001b[1;33m:\u001b[0m\u001b[1;33m\u001b[0m\u001b[0m\n",
      "\u001b[1;31mValueError\u001b[0m: invalid literal for int() with base 10: 'Alex'"
     ]
    }
   ],
   "source": [
    "def repeatName():\n",
    "    name = str(input(\"Introdueix el teu nom : \"))\n",
    "    num = input(\"Introdueix un número per repetir el teu nom: \")\n",
    "    \n",
    "    if validaNum(num):\n",
    "        number = int(num)\n",
    "        if number <= 0:\n",
    "            print (f\"No puc repetir el teu nom {num} cops\")\n",
    "        else:\n",
    "            for repeat in range(number):\n",
    "                print(name)"
   ]
  },
  {
   "cell_type": "code",
   "execution_count": 43,
   "metadata": {
    "ExecuteTime": {
     "end_time": "2021-03-18T16:20:28.632498Z",
     "start_time": "2021-03-18T16:20:15.456022Z"
    }
   },
   "outputs": [
    {
     "name": "stdout",
     "output_type": "stream",
     "text": [
      "Quin és el teu nom? 5\n",
      "Quin és el teu número? Alex\n"
     ]
    },
    {
     "ename": "ValueError",
     "evalue": "invalid literal for int() with base 10: 'Alex'",
     "output_type": "error",
     "traceback": [
      "\u001b[1;31m---------------------------------------------------------------------------\u001b[0m",
      "\u001b[1;31mValueError\u001b[0m                                Traceback (most recent call last)",
      "\u001b[1;32m<ipython-input-43-0ce5938882aa>\u001b[0m in \u001b[0;36m<module>\u001b[1;34m()\u001b[0m\n\u001b[0;32m      1\u001b[0m \u001b[0mnom\u001b[0m \u001b[1;33m=\u001b[0m \u001b[0minput\u001b[0m\u001b[1;33m(\u001b[0m\u001b[1;34m'Quin és el teu nom? '\u001b[0m\u001b[1;33m)\u001b[0m\u001b[1;33m\u001b[0m\u001b[0m\n\u001b[1;32m----> 2\u001b[1;33m \u001b[0mnum\u001b[0m \u001b[1;33m=\u001b[0m \u001b[0mint\u001b[0m\u001b[1;33m(\u001b[0m\u001b[0minput\u001b[0m\u001b[1;33m(\u001b[0m\u001b[1;34m'Quin és el teu número? '\u001b[0m\u001b[1;33m)\u001b[0m\u001b[1;33m)\u001b[0m\u001b[1;33m\u001b[0m\u001b[0m\n\u001b[0m\u001b[0;32m      3\u001b[0m \u001b[1;33m\u001b[0m\u001b[0m\n\u001b[0;32m      4\u001b[0m \u001b[1;33m\u001b[0m\u001b[0m\n\u001b[0;32m      5\u001b[0m \u001b[1;32mif\u001b[0m \u001b[0mnum\u001b[0m \u001b[1;33m==\u001b[0m \u001b[1;36m0\u001b[0m\u001b[1;33m:\u001b[0m\u001b[1;33m\u001b[0m\u001b[0m\n",
      "\u001b[1;31mValueError\u001b[0m: invalid literal for int() with base 10: 'Alex'"
     ]
    }
   ],
   "source": [
    "repeatName()\n",
    "repeatName() \n",
    "repeatName()"
   ]
  },
  {
   "cell_type": "markdown",
   "metadata": {},
   "source": [
    "## - Exercici 3, opcio \"f\""
   ]
  },
  {
   "cell_type": "code",
   "execution_count": 29,
   "metadata": {
    "ExecuteTime": {
     "end_time": "2021-03-18T18:18:36.097666Z",
     "start_time": "2021-03-18T18:18:18.666959Z"
    }
   },
   "outputs": [
    {
     "name": "stdout",
     "output_type": "stream",
     "text": [
      "Quin es el teu nom?: Alex\n",
      "Quantes vegades vols repetir el nom?: Kumenius\n",
      "El segon input no és un enter\n"
     ]
    }
   ],
   "source": [
    "def nom_rep():\n",
    "    try:\n",
    "        nom = input('Quin es el teu nom?: ')\n",
    "        num = int(input('Quantes vegades vols repetir el nom?: '))\n",
    "        if num == 0:\n",
    "            print(\"Error: el número ha de ser un enter major que 0\")\n",
    "        else:\n",
    "            print([nom]*num)\n",
    "    except ValueError:\n",
    "        print(\"El segon input no és un enter\")  \n",
    "\n",
    "nom_rep()"
   ]
  },
  {
   "cell_type": "markdown",
   "metadata": {},
   "source": [
    "## - Exercici 3, opcio \"g\""
   ]
  },
  {
   "cell_type": "code",
   "execution_count": 5,
   "metadata": {
    "ExecuteTime": {
     "end_time": "2021-03-19T17:36:26.732040Z",
     "start_time": "2021-03-19T17:36:19.391437Z"
    }
   },
   "outputs": [
    {
     "name": "stdout",
     "output_type": "stream",
     "text": [
      "Entra el teu nom:Alex\n",
      "Entra el número de repeticions:-5\n"
     ]
    },
    {
     "data": {
      "text/plain": [
       "'El número de repeticions no pot ser 0 o negatiu'"
      ]
     },
     "execution_count": 5,
     "metadata": {},
     "output_type": "execute_result"
    }
   ],
   "source": [
    "def repetirNom(nom, repeticions):\n",
    "    # afegim la validació que no sigui tampoc negatiu ja que la descripció del programa no contempla aquests casos\n",
    "    if repeticions <= 0: return \"El número de repeticions no pot ser 0 o negatiu\"\n",
    "    else: return (nom + ' ') * repeticions\n",
    "    \n",
    "# convertim a int l'input de repeticions perque funcioni correctament, al jupyter notebook tornava string\n",
    "repetirNom(input(\"Entra el teu nom:\"), int(input(\"Entra el número de repeticions:\")))"
   ]
  },
  {
   "cell_type": "markdown",
   "metadata": {},
   "source": [
    "## - Exercici 3, opcio \"h\""
   ]
  },
  {
   "cell_type": "code",
   "execution_count": 14,
   "metadata": {
    "ExecuteTime": {
     "end_time": "2021-03-21T17:02:09.626680Z",
     "start_time": "2021-03-21T17:02:00.256328Z"
    }
   },
   "outputs": [
    {
     "name": "stdout",
     "output_type": "stream",
     "text": [
      "Com et dius?\n",
      "Introdueix un numero 5\n",
      "has picat  5 i el nom es   .....\n"
     ]
    }
   ],
   "source": [
    "import numpy as np\n",
    "nom=  (input('Com et dius?'))\n",
    "num = int(input('Introdueix un numero '))\n",
    "num2 = num\n",
    "if num != 0:\n",
    "    arr= np.array(nom * num)\n",
    "    print('has picat ', num ,'i el nom es ',arr,'.....')\n",
    "else:\n",
    "      print ('fatal error')"
   ]
  },
  {
   "cell_type": "markdown",
   "metadata": {},
   "source": [
    " ## <span style=color:red><b><u>EXERCISE - 4</u></b></span>"
   ]
  },
  {
   "cell_type": "markdown",
   "metadata": {
    "ExecuteTime": {
     "end_time": "2021-01-14T15:14:36.207496Z",
     "start_time": "2021-01-14T15:14:36.201516Z"
    }
   },
   "source": [
    "Crea un programa que donada una llista qualsevol, et digui si es simètrica o no. Si ho és, que et digui quants elements té."
   ]
  },
  {
   "cell_type": "code",
   "execution_count": 11,
   "metadata": {
    "ExecuteTime": {
     "end_time": "2021-01-17T10:13:24.465721Z",
     "start_time": "2021-01-17T10:13:24.453185Z"
    }
   },
   "outputs": [
    {
     "data": {
      "text/plain": [
       "7"
      ]
     },
     "execution_count": 11,
     "metadata": {},
     "output_type": "execute_result"
    }
   ],
   "source": [
    "len(square)"
   ]
  },
  {
   "cell_type": "code",
   "execution_count": 27,
   "metadata": {
    "ExecuteTime": {
     "end_time": "2021-01-17T10:26:13.911949Z",
     "start_time": "2021-01-17T10:26:13.904931Z"
    }
   },
   "outputs": [
    {
     "data": {
      "text/plain": [
       "False"
      ]
     },
     "execution_count": 27,
     "metadata": {},
     "output_type": "execute_result"
    }
   ],
   "source": [
    "square = [0, 1, 3, 5, 3, 9, 6]\n",
    "\n",
    "def foo(data):\n",
    "    for el in square:\n",
    "        if len(str(row)) != len(square):\n",
    "            return False\n",
    "foo(square)        "
   ]
  },
  {
   "cell_type": "code",
   "execution_count": 31,
   "metadata": {
    "ExecuteTime": {
     "end_time": "2021-01-17T10:27:26.551230Z",
     "start_time": "2021-01-17T10:27:26.545245Z"
    }
   },
   "outputs": [
    {
     "data": {
      "text/plain": [
       "False"
      ]
     },
     "execution_count": 31,
     "metadata": {},
     "output_type": "execute_result"
    }
   ],
   "source": [
    "def foo(data):\n",
    "    if not all(len(square) == len(str(row)) for row in square): return False\n",
    "    \n",
    "foo(square)"
   ]
  },
  {
   "cell_type": "code",
   "execution_count": 32,
   "metadata": {
    "ExecuteTime": {
     "end_time": "2021-01-17T10:32:11.335934Z",
     "start_time": "2021-01-17T10:32:11.330947Z"
    }
   },
   "outputs": [],
   "source": [
    "def symmetric(square):\n",
    "    square = [tuple(row) for row in range(len(square))]\n",
    "    return square == zip(*square)"
   ]
  },
  {
   "cell_type": "code",
   "execution_count": 33,
   "metadata": {
    "ExecuteTime": {
     "end_time": "2021-01-17T10:32:13.160282Z",
     "start_time": "2021-01-17T10:32:13.140339Z"
    }
   },
   "outputs": [
    {
     "ename": "TypeError",
     "evalue": "'int' object is not iterable",
     "output_type": "error",
     "traceback": [
      "\u001b[1;31m---------------------------------------------------------------------------\u001b[0m",
      "\u001b[1;31mTypeError\u001b[0m                                 Traceback (most recent call last)",
      "\u001b[1;32m<ipython-input-33-e3e2b1225181>\u001b[0m in \u001b[0;36m<module>\u001b[1;34m()\u001b[0m\n\u001b[1;32m----> 1\u001b[1;33m \u001b[0msymmetric\u001b[0m\u001b[1;33m(\u001b[0m\u001b[0msquare\u001b[0m\u001b[1;33m)\u001b[0m\u001b[1;33m\u001b[0m\u001b[0m\n\u001b[0m",
      "\u001b[1;32m<ipython-input-32-7626a5f32c16>\u001b[0m in \u001b[0;36msymmetric\u001b[1;34m(square)\u001b[0m\n\u001b[0;32m      1\u001b[0m \u001b[1;32mdef\u001b[0m \u001b[0msymmetric\u001b[0m\u001b[1;33m(\u001b[0m\u001b[0msquare\u001b[0m\u001b[1;33m)\u001b[0m\u001b[1;33m:\u001b[0m\u001b[1;33m\u001b[0m\u001b[0m\n\u001b[1;32m----> 2\u001b[1;33m     \u001b[0msquare\u001b[0m \u001b[1;33m=\u001b[0m \u001b[1;33m[\u001b[0m\u001b[0mtuple\u001b[0m\u001b[1;33m(\u001b[0m\u001b[0mrow\u001b[0m\u001b[1;33m)\u001b[0m \u001b[1;32mfor\u001b[0m \u001b[0mrow\u001b[0m \u001b[1;32min\u001b[0m \u001b[0mrange\u001b[0m\u001b[1;33m(\u001b[0m\u001b[0mlen\u001b[0m\u001b[1;33m(\u001b[0m\u001b[0msquare\u001b[0m\u001b[1;33m)\u001b[0m\u001b[1;33m)\u001b[0m\u001b[1;33m]\u001b[0m\u001b[1;33m\u001b[0m\u001b[0m\n\u001b[0m\u001b[0;32m      3\u001b[0m     \u001b[1;32mreturn\u001b[0m \u001b[0msquare\u001b[0m \u001b[1;33m==\u001b[0m \u001b[0mzip\u001b[0m\u001b[1;33m(\u001b[0m\u001b[1;33m*\u001b[0m\u001b[0msquare\u001b[0m\u001b[1;33m)\u001b[0m\u001b[1;33m\u001b[0m\u001b[0m\n",
      "\u001b[1;32m<ipython-input-32-7626a5f32c16>\u001b[0m in \u001b[0;36m<listcomp>\u001b[1;34m(.0)\u001b[0m\n\u001b[0;32m      1\u001b[0m \u001b[1;32mdef\u001b[0m \u001b[0msymmetric\u001b[0m\u001b[1;33m(\u001b[0m\u001b[0msquare\u001b[0m\u001b[1;33m)\u001b[0m\u001b[1;33m:\u001b[0m\u001b[1;33m\u001b[0m\u001b[0m\n\u001b[1;32m----> 2\u001b[1;33m     \u001b[0msquare\u001b[0m \u001b[1;33m=\u001b[0m \u001b[1;33m[\u001b[0m\u001b[0mtuple\u001b[0m\u001b[1;33m(\u001b[0m\u001b[0mrow\u001b[0m\u001b[1;33m)\u001b[0m \u001b[1;32mfor\u001b[0m \u001b[0mrow\u001b[0m \u001b[1;32min\u001b[0m \u001b[0mrange\u001b[0m\u001b[1;33m(\u001b[0m\u001b[0mlen\u001b[0m\u001b[1;33m(\u001b[0m\u001b[0msquare\u001b[0m\u001b[1;33m)\u001b[0m\u001b[1;33m)\u001b[0m\u001b[1;33m]\u001b[0m\u001b[1;33m\u001b[0m\u001b[0m\n\u001b[0m\u001b[0;32m      3\u001b[0m     \u001b[1;32mreturn\u001b[0m \u001b[0msquare\u001b[0m \u001b[1;33m==\u001b[0m \u001b[0mzip\u001b[0m\u001b[1;33m(\u001b[0m\u001b[1;33m*\u001b[0m\u001b[0msquare\u001b[0m\u001b[1;33m)\u001b[0m\u001b[1;33m\u001b[0m\u001b[0m\n",
      "\u001b[1;31mTypeError\u001b[0m: 'int' object is not iterable"
     ]
    }
   ],
   "source": [
    "symmetric(square)"
   ]
  },
  {
   "cell_type": "code",
   "execution_count": 11,
   "metadata": {
    "ExecuteTime": {
     "end_time": "2021-01-14T16:28:21.665292Z",
     "start_time": "2021-01-14T16:28:21.661302Z"
    }
   },
   "outputs": [],
   "source": [
    "lista_no_simetrica = [1,2,3,4,5,6]\n",
    "lista_simetrica = [1,2,3,4,3,2,1]"
   ]
  },
  {
   "cell_type": "code",
   "execution_count": 34,
   "metadata": {
    "ExecuteTime": {
     "end_time": "2021-01-17T10:34:04.524242Z",
     "start_time": "2021-01-17T10:34:04.519689Z"
    }
   },
   "outputs": [],
   "source": [
    "def check_simetry(data):\n",
    "    for i,el in enumerate(data):\n",
    "        if data[i]==data[-i-1]:\n",
    "            continue            \n",
    "        else:\n",
    "            return False    \n",
    "    return len(data)"
   ]
  },
  {
   "cell_type": "code",
   "execution_count": 15,
   "metadata": {
    "ExecuteTime": {
     "end_time": "2021-01-14T16:29:33.202206Z",
     "start_time": "2021-01-14T16:29:33.197220Z"
    }
   },
   "outputs": [
    {
     "name": "stdout",
     "output_type": "stream",
     "text": [
      "False\n",
      "7\n"
     ]
    }
   ],
   "source": [
    "print(check_simetry(lista_no_simetrica))\n",
    "print(check_simetry(lista_simetrica))"
   ]
  },
  {
   "cell_type": "code",
   "execution_count": 16,
   "metadata": {
    "ExecuteTime": {
     "end_time": "2021-01-14T17:04:12.248332Z",
     "start_time": "2021-01-14T17:04:12.240249Z"
    }
   },
   "outputs": [
    {
     "name": "stdout",
     "output_type": "stream",
     "text": [
      "La llista és simètrica i té 3 elements.\n",
      "La llista és simètrica i té 4 elements.\n",
      "La llista no és simètrica\n"
     ]
    }
   ],
   "source": [
    "def es_simetrica(llista):\n",
    "    \"\"\"\n",
    "    Donada una llista, imprimeix si es simètrica i\n",
    "    imprimeix un número d'elements si ho es.\n",
    "    \"\"\"\n",
    "    llista_reves = llista[::-1]\n",
    "    if llista != llista_reves:\n",
    "        print(\"La llista no és simètrica\")\n",
    "    else:\n",
    "        print(f\"La llista és simètrica i té {len(llista)} elements.\")\n",
    "        \n",
    "es_simetrica([0,1,0])\n",
    "es_simetrica([2,3,3,2])\n",
    "es_simetrica([1,2,3])"
   ]
  },
  {
   "cell_type": "code",
   "execution_count": 36,
   "metadata": {
    "ExecuteTime": {
     "end_time": "2021-01-17T10:36:08.458602Z",
     "start_time": "2021-01-17T10:36:08.452618Z"
    }
   },
   "outputs": [
    {
     "data": {
      "text/plain": [
       "[6, 9, 3, 5, 3, 1, 0]"
      ]
     },
     "execution_count": 36,
     "metadata": {},
     "output_type": "execute_result"
    }
   ],
   "source": [
    "square[:: -1]"
   ]
  },
  {
   "cell_type": "code",
   "execution_count": 43,
   "metadata": {
    "ExecuteTime": {
     "end_time": "2021-01-17T10:41:19.225031Z",
     "start_time": "2021-01-17T10:41:19.208684Z"
    }
   },
   "outputs": [
    {
     "ename": "TypeError",
     "evalue": "object of type 'int' has no len()",
     "output_type": "error",
     "traceback": [
      "\u001b[1;31m---------------------------------------------------------------------------\u001b[0m",
      "\u001b[1;31mTypeError\u001b[0m                                 Traceback (most recent call last)",
      "\u001b[1;32m<ipython-input-43-4cb00d02b265>\u001b[0m in \u001b[0;36m<module>\u001b[1;34m()\u001b[0m\n\u001b[0;32m      7\u001b[0m                 \u001b[1;32mreturn\u001b[0m \u001b[1;32mFalse\u001b[0m\u001b[1;33m\u001b[0m\u001b[0m\n\u001b[0;32m      8\u001b[0m \u001b[1;33m\u001b[0m\u001b[0m\n\u001b[1;32m----> 9\u001b[1;33m \u001b[0msimetrica\u001b[0m\u001b[1;33m(\u001b[0m\u001b[0mmatrix\u001b[0m\u001b[1;33m)\u001b[0m\u001b[1;33m\u001b[0m\u001b[0m\n\u001b[0m",
      "\u001b[1;32m<ipython-input-43-4cb00d02b265>\u001b[0m in \u001b[0;36msimetrica\u001b[1;34m(data)\u001b[0m\n\u001b[0;32m      3\u001b[0m \u001b[1;32mdef\u001b[0m \u001b[0msimetrica\u001b[0m\u001b[1;33m(\u001b[0m\u001b[0mdata\u001b[0m\u001b[1;33m)\u001b[0m\u001b[1;33m:\u001b[0m\u001b[1;33m\u001b[0m\u001b[0m\n\u001b[0;32m      4\u001b[0m     \u001b[1;32mfor\u001b[0m \u001b[0mi\u001b[0m\u001b[1;33m,\u001b[0m \u001b[0mline\u001b[0m \u001b[1;32min\u001b[0m \u001b[0menumerate\u001b[0m\u001b[1;33m(\u001b[0m\u001b[0mmatrix\u001b[0m\u001b[1;33m)\u001b[0m\u001b[1;33m:\u001b[0m\u001b[1;33m\u001b[0m\u001b[0m\n\u001b[1;32m----> 5\u001b[1;33m         \u001b[1;32mfor\u001b[0m \u001b[0mj\u001b[0m \u001b[1;32min\u001b[0m \u001b[0mrange\u001b[0m\u001b[1;33m(\u001b[0m\u001b[0mlen\u001b[0m\u001b[1;33m(\u001b[0m\u001b[0mline\u001b[0m\u001b[1;33m)\u001b[0m\u001b[1;33m)\u001b[0m\u001b[1;33m:\u001b[0m\u001b[1;33m\u001b[0m\u001b[0m\n\u001b[0m\u001b[0;32m      6\u001b[0m             \u001b[1;32mif\u001b[0m \u001b[0ma\u001b[0m\u001b[1;33m[\u001b[0m\u001b[0mi\u001b[0m\u001b[1;33m]\u001b[0m\u001b[1;33m[\u001b[0m\u001b[0mj\u001b[0m\u001b[1;33m]\u001b[0m \u001b[1;33m!=\u001b[0m \u001b[0ma\u001b[0m\u001b[1;33m[\u001b[0m\u001b[0mj\u001b[0m\u001b[1;33m]\u001b[0m\u001b[1;33m[\u001b[0m\u001b[0mi\u001b[0m\u001b[1;33m]\u001b[0m\u001b[1;33m:\u001b[0m\u001b[1;33m\u001b[0m\u001b[0m\n\u001b[0;32m      7\u001b[0m                 \u001b[1;32mreturn\u001b[0m \u001b[1;32mFalse\u001b[0m\u001b[1;33m\u001b[0m\u001b[0m\n",
      "\u001b[1;31mTypeError\u001b[0m: object of type 'int' has no len()"
     ]
    }
   ],
   "source": [
    "matrix = [1,2,3,4,5,6]\n",
    "\n",
    "def simetrica(data):\n",
    "    for i, line in enumerate(matrix):\n",
    "        for j in range(len(line)):\n",
    "            if a[i][j] != a[j][i]:\n",
    "                return False\n",
    "\n",
    "simetrica(matrix)            "
   ]
  },
  {
   "cell_type": "code",
   "execution_count": 40,
   "metadata": {
    "ExecuteTime": {
     "end_time": "2021-01-17T10:40:12.266201Z",
     "start_time": "2021-01-17T10:40:12.259598Z"
    }
   },
   "outputs": [
    {
     "data": {
      "text/plain": [
       "[(0, 1), (1, 2), (2, 3), (3, 4), (4, 5), (5, 6)]"
      ]
     },
     "execution_count": 40,
     "metadata": {},
     "output_type": "execute_result"
    }
   ],
   "source": [
    "list(enumerate(matrix))"
   ]
  },
  {
   "cell_type": "markdown",
   "metadata": {},
   "source": [
    "Symmetry occurs if the value of the ith element at the start of the list is equal to the value of the ith element at the end of the list.\n",
    "\n",
    "Meaning for any list l the symmetry occurs when l[i] == l[~i]."
   ]
  },
  {
   "cell_type": "markdown",
   "metadata": {},
   "source": [
    "## - Exercici 4 opcio a"
   ]
  },
  {
   "cell_type": "code",
   "execution_count": 8,
   "metadata": {
    "ExecuteTime": {
     "end_time": "2021-02-15T16:11:05.117926Z",
     "start_time": "2021-02-15T16:10:54.806514Z"
    }
   },
   "outputs": [
    {
     "name": "stdout",
     "output_type": "stream",
     "text": [
      "Introduce los números que quieras separándolos por comas: 1,2,1\n",
      "3\n"
     ]
    }
   ],
   "source": [
    "# creación de lista\n",
    "num = list(map(int, input('Introduce los números que quieras separándolos por comas: ').split(\",\")))\n",
    "\n",
    "# copia de lista para crear nueva lista volteada\n",
    "l_vol = num.copy()\n",
    "l_vol.reverse()\n",
    "\n",
    "# si la lista es simétrica sabremos la cantidad de elementos que la compone\n",
    "if num == l_vol:\n",
    "    print(len(num))\n",
    "else:\n",
    "    print('no es simétrica')"
   ]
  },
  {
   "cell_type": "markdown",
   "metadata": {},
   "source": [
    "## - Exercici 4 opcio b"
   ]
  },
  {
   "cell_type": "code",
   "execution_count": 11,
   "metadata": {
    "ExecuteTime": {
     "end_time": "2021-02-15T16:24:57.280550Z",
     "start_time": "2021-02-15T16:24:57.276558Z"
    }
   },
   "outputs": [],
   "source": [
    "lista_no_simetrica = [1,2,3,4,5,6]\n",
    "lista_simetrica = [1,2,3,4,3,2,1]"
   ]
  },
  {
   "cell_type": "code",
   "execution_count": 12,
   "metadata": {
    "ExecuteTime": {
     "end_time": "2021-02-15T16:25:20.907335Z",
     "start_time": "2021-02-15T16:25:20.903346Z"
    }
   },
   "outputs": [],
   "source": [
    "def check_simetry(data):\n",
    "    for i,el in enumerate(data):\n",
    "        if data[i]==data[-i-1]:\n",
    "            continue            \n",
    "        else:\n",
    "            return False    \n",
    "    return len(data)"
   ]
  },
  {
   "cell_type": "code",
   "execution_count": 13,
   "metadata": {
    "ExecuteTime": {
     "end_time": "2021-02-15T16:25:45.320019Z",
     "start_time": "2021-02-15T16:25:45.314034Z"
    }
   },
   "outputs": [
    {
     "name": "stdout",
     "output_type": "stream",
     "text": [
      "False\n",
      "7\n"
     ]
    }
   ],
   "source": [
    "print(check_simetry(lista_no_simetrica))\n",
    "print(check_simetry(lista_simetrica))"
   ]
  },
  {
   "cell_type": "markdown",
   "metadata": {},
   "source": [
    "## - Exercici 4, opcio \"c\""
   ]
  },
  {
   "cell_type": "code",
   "execution_count": 23,
   "metadata": {
    "ExecuteTime": {
     "end_time": "2021-02-15T16:53:09.299953Z",
     "start_time": "2021-02-15T16:53:09.292971Z"
    }
   },
   "outputs": [
    {
     "name": "stdout",
     "output_type": "stream",
     "text": [
      "Esta lista no es simétrica\n"
     ]
    }
   ],
   "source": [
    "lista=[1,2,3,1]\n",
    "\n",
    "if len(lista)%2==0:\n",
    "    if lista[0:int(len(lista)/2)]==lista[int(len(lista)/2):][::-1]:\n",
    "        print('Esta lista es simétrica')\n",
    "    else:\n",
    "        print('Esta lista no es simétrica')\n",
    "else:\n",
    "    if lista[0:int(len(lista)/2)]==lista[(int(len(lista)/2)+1):][::-1]:\n",
    "        print('Esta lista es simétrica')\n",
    "    else:\n",
    "        print('Esta lista no es simétrica')"
   ]
  },
  {
   "cell_type": "code",
   "execution_count": 32,
   "metadata": {
    "ExecuteTime": {
     "end_time": "2021-02-15T16:54:47.441412Z",
     "start_time": "2021-02-15T16:54:47.435427Z"
    }
   },
   "outputs": [
    {
     "data": {
      "text/plain": [
       "0"
      ]
     },
     "execution_count": 32,
     "metadata": {},
     "output_type": "execute_result"
    }
   ],
   "source": [
    "len(lista) % 2"
   ]
  },
  {
   "cell_type": "code",
   "execution_count": 33,
   "metadata": {
    "ExecuteTime": {
     "end_time": "2021-02-15T16:55:30.003536Z",
     "start_time": "2021-02-15T16:55:29.998547Z"
    }
   },
   "outputs": [
    {
     "data": {
      "text/plain": [
       "[1, 3]"
      ]
     },
     "execution_count": 33,
     "metadata": {},
     "output_type": "execute_result"
    }
   ],
   "source": [
    "lista[int(len(lista)/2):][::-1]"
   ]
  },
  {
   "cell_type": "code",
   "execution_count": 34,
   "metadata": {
    "ExecuteTime": {
     "end_time": "2021-02-15T16:55:56.767924Z",
     "start_time": "2021-02-15T16:55:56.761941Z"
    }
   },
   "outputs": [
    {
     "data": {
      "text/plain": [
       "[1, 2]"
      ]
     },
     "execution_count": 34,
     "metadata": {},
     "output_type": "execute_result"
    }
   ],
   "source": [
    "lista[0:int(len(lista)/2)]"
   ]
  },
  {
   "cell_type": "markdown",
   "metadata": {},
   "source": [
    "## - Exercici 4, opcio \"d\""
   ]
  },
  {
   "cell_type": "code",
   "execution_count": 45,
   "metadata": {
    "ExecuteTime": {
     "end_time": "2021-02-15T17:14:07.125436Z",
     "start_time": "2021-02-15T17:14:07.119488Z"
    }
   },
   "outputs": [],
   "source": [
    "def es_simetrica(llista):\n",
    "    simetrica = True\n",
    "    for n in range(len(llista)//2):\n",
    "        if llista[n] != llista[-1-n]:\n",
    "            print('Llista no simètrica')\n",
    "            simetrica = False\n",
    "            break;\n",
    "    if simetrica:\n",
    "        print(f'Simètrica amb {len(llista)} elements')"
   ]
  },
  {
   "cell_type": "code",
   "execution_count": 46,
   "metadata": {
    "ExecuteTime": {
     "end_time": "2021-02-15T17:14:28.891109Z",
     "start_time": "2021-02-15T17:14:28.884131Z"
    }
   },
   "outputs": [
    {
     "name": "stdout",
     "output_type": "stream",
     "text": [
      "Simètrica amb 9 elements\n",
      "Simètrica amb 8 elements\n",
      "Llista no simètrica\n"
     ]
    }
   ],
   "source": [
    "es_simetrica([1,2,3,4,5,4,3,2,1])\n",
    "es_simetrica([1,2,3,4,4,3,2,1])\n",
    "es_simetrica([3,2,4,1,2,3,4,5])"
   ]
  },
  {
   "cell_type": "markdown",
   "metadata": {},
   "source": [
    "## - Exercici 4, opcio \"e\""
   ]
  },
  {
   "cell_type": "code",
   "execution_count": 50,
   "metadata": {
    "ExecuteTime": {
     "end_time": "2021-02-15T17:41:59.050215Z",
     "start_time": "2021-02-15T17:41:59.044232Z"
    }
   },
   "outputs": [],
   "source": [
    "def listasimetrica(lista):\n",
    "    long=len(lista)\n",
    "    for x in range(long):\n",
    "        if(lista[x]!=lista[long-x-1]):\n",
    "            print(f\"La lista {lista} no es simetrica\")\n",
    "            break   \n",
    "        elif x==(long-1):\n",
    "            print(f\"La lista {lista} es simetrica\")"
   ]
  },
  {
   "cell_type": "code",
   "execution_count": 51,
   "metadata": {
    "ExecuteTime": {
     "end_time": "2021-02-15T17:42:14.407127Z",
     "start_time": "2021-02-15T17:42:14.402140Z"
    }
   },
   "outputs": [
    {
     "name": "stdout",
     "output_type": "stream",
     "text": [
      "La lista [4, 2, 4, 5] no es simetrica\n"
     ]
    }
   ],
   "source": [
    "listasimetrica([4,2,4,5])"
   ]
  },
  {
   "cell_type": "markdown",
   "metadata": {},
   "source": [
    "## - Exercici 4, opcio \"f\""
   ]
  },
  {
   "cell_type": "code",
   "execution_count": 4,
   "metadata": {
    "ExecuteTime": {
     "end_time": "2021-03-18T17:25:58.407333Z",
     "start_time": "2021-03-18T17:25:48.931138Z"
    }
   },
   "outputs": [
    {
     "name": "stdout",
     "output_type": "stream",
     "text": [
      "Ingresar palabra: 1,2,3,2,1\n",
      "Es simétrica\n"
     ]
    }
   ],
   "source": [
    "# Algoritmo para determinar si una palabra es simétrica.\n",
    "\n",
    "palabra = input('Ingresar palabra: ')\n",
    "palabra = palabra.lower()\n",
    "palabra_invertida = palabra[::-1]\n",
    "largo = len(palabra)\n",
    "\n",
    "x = 0\n",
    "flag = 0\n",
    "\n",
    "for element in palabra:\n",
    "    if palabra[x] == palabra_invertida[x]:\n",
    "        flag += 1\n",
    "        x += 1\n",
    "    else:\n",
    "        flag += 0\n",
    "        x += 1\n",
    "\n",
    "if flag == largo:\n",
    "    print('Es simétrica')\n",
    "else:\n",
    "    print('No es simétrica')"
   ]
  },
  {
   "cell_type": "markdown",
   "metadata": {},
   "source": [
    "## - Exercici 4, opcio \"g\""
   ]
  },
  {
   "cell_type": "code",
   "execution_count": 6,
   "metadata": {
    "ExecuteTime": {
     "end_time": "2021-03-18T17:35:52.215882Z",
     "start_time": "2021-03-18T17:35:52.197926Z"
    }
   },
   "outputs": [],
   "source": [
    "lista=[5,4,4,5]\n",
    "lista2=[5,6,8,42,78]\n",
    "\n",
    "def simetrica(X):\n",
    "    if len(X) < 2:\n",
    "        return True\n",
    "    if X[0]==X[-1]:\n",
    "        print(\"La lista es simétrica\")\n",
    "        return simetrica(X[1:-2])\n",
    "    else:\n",
    "        return print(\"La lista no es simétrica y tiene\", len(X), \"elementos.\")"
   ]
  },
  {
   "cell_type": "code",
   "execution_count": 8,
   "metadata": {
    "ExecuteTime": {
     "end_time": "2021-03-18T17:36:15.738260Z",
     "start_time": "2021-03-18T17:36:15.734272Z"
    }
   },
   "outputs": [
    {
     "name": "stdout",
     "output_type": "stream",
     "text": [
      "La lista no es simétrica y tiene 5 elementos.\n"
     ]
    }
   ],
   "source": [
    "simetrica(lista2)"
   ]
  },
  {
   "cell_type": "markdown",
   "metadata": {},
   "source": [
    "## - Exercici 4, opcio \"h\""
   ]
  },
  {
   "cell_type": "code",
   "execution_count": 30,
   "metadata": {
    "ExecuteTime": {
     "end_time": "2021-03-18T18:20:50.122764Z",
     "start_time": "2021-03-18T18:20:50.100821Z"
    }
   },
   "outputs": [
    {
     "name": "stdout",
     "output_type": "stream",
     "text": [
      "La llista és simètrica i té 3 elements diferents\n",
      "La llista és simètrica i té 2 elements diferents\n",
      "No és una llista simètrica\n",
      "No és una llista simètrica\n",
      "La llista és simètrica i té 1 elements diferents\n",
      "La llista és simètrica i té 1 elements diferents\n",
      "No és una llista simètrica\n"
     ]
    }
   ],
   "source": [
    "def llista_sim(llista):\n",
    "    llista_b = llista[::-1]\n",
    "    if llista == llista_b:\n",
    "        if len(llista) % 2 == 0:\n",
    "            print('La llista és simètrica i té {} elements diferents'.format(len(llista)//2))\n",
    "        else:\n",
    "            print('La llista és simètrica i té {} elements diferents'.format(len(llista)//2+1))\n",
    "    else: \n",
    "        print('No és una llista simètrica')\n",
    "        \n",
    "llista_sim(['A','B','C','B','A'])\n",
    "llista_sim(['A','B','B','A'])\n",
    "llista_sim(['A','B','C','D','A'])\n",
    "llista_sim(['A','B','C','A'])\n",
    "llista_sim(['A','A'])\n",
    "llista_sim(['A'])\n",
    "llista_sim(['A','B'])"
   ]
  },
  {
   "cell_type": "markdown",
   "metadata": {},
   "source": [
    "## - Exercici 4, opcio \"i\""
   ]
  },
  {
   "cell_type": "code",
   "execution_count": 6,
   "metadata": {
    "ExecuteTime": {
     "end_time": "2021-03-19T17:38:17.250746Z",
     "start_time": "2021-03-19T17:38:17.244761Z"
    }
   },
   "outputs": [
    {
     "name": "stdout",
     "output_type": "stream",
     "text": [
      "La llista és simètrica i conté 5 elements\n",
      "La llista no és simètrica\n"
     ]
    }
   ],
   "source": [
    "def esSimetrica(llista):\n",
    "    longitud = len(llista)\n",
    "    simetrica = True\n",
    "    for i in range(longitud // 2):\n",
    "      if llista[i] != llista[longitud-i-1]: \n",
    "        simetrica = False\n",
    "        print(\"La llista no és simètrica\")\n",
    "        break\n",
    "    if simetrica: print(\"La llista és simètrica i conté {} elements\".format(longitud))\n",
    "        \n",
    "llista1 = [\"gos\", \"gat\", \"ase\", \"gat\", \"gos\"]\n",
    "llista2 = [\"gos\", \"gat\", \"ase\", \"ocell\", \"gat\", \"gos\"]\n",
    "\n",
    "# fem una prova amb una llista simètrica i una que no \n",
    "esSimetrica(llista1)\n",
    "esSimetrica(llista2)"
   ]
  },
  {
   "cell_type": "code",
   "execution_count": 7,
   "metadata": {
    "ExecuteTime": {
     "end_time": "2021-03-19T17:39:32.855199Z",
     "start_time": "2021-03-19T17:39:32.833254Z"
    }
   },
   "outputs": [
    {
     "ename": "NameError",
     "evalue": "name 'longitud' is not defined",
     "output_type": "error",
     "traceback": [
      "\u001b[1;31m---------------------------------------------------------------------------\u001b[0m",
      "\u001b[1;31mNameError\u001b[0m                                 Traceback (most recent call last)",
      "\u001b[1;32m<ipython-input-7-0363fce49a7d>\u001b[0m in \u001b[0;36m<module>\u001b[1;34m()\u001b[0m\n\u001b[1;32m----> 1\u001b[1;33m \u001b[0mrange\u001b[0m\u001b[1;33m(\u001b[0m\u001b[0mlongitud\u001b[0m \u001b[1;33m//\u001b[0m \u001b[1;36m2\u001b[0m\u001b[1;33m)\u001b[0m\u001b[1;33m\u001b[0m\u001b[0m\n\u001b[0m",
      "\u001b[1;31mNameError\u001b[0m: name 'longitud' is not defined"
     ]
    }
   ],
   "source": [
    "range(longitud // 2)"
   ]
  },
  {
   "cell_type": "markdown",
   "metadata": {},
   "source": [
    "## - Exercici 4, opcio \"j\""
   ]
  },
  {
   "cell_type": "code",
   "execution_count": 18,
   "metadata": {
    "ExecuteTime": {
     "end_time": "2021-03-21T18:11:41.050688Z",
     "start_time": "2021-03-21T18:11:41.037723Z"
    }
   },
   "outputs": [
    {
     "name": "stdout",
     "output_type": "stream",
     "text": [
      "1 1\n",
      "2 2\n",
      "3 3\n",
      "3 3\n",
      "2 2\n",
      "1 1\n",
      "Aquesta lista es simètrica amb  6 elements\n"
     ]
    }
   ],
   "source": [
    "import numpy \n",
    "from numpy import random\n",
    "\n",
    "# arr =random.randint(10, size=(5))\n",
    "arr = [1,2,3,3,2,1]\n",
    "num = 0\n",
    "\n",
    "while num < len(arr):\n",
    "    num_f = num + 1\n",
    "    print(arr[num], arr[-num_f] )\n",
    "    if arr[num] !=  arr[-num_f]:\n",
    "        print(\"Aquesta lista no es simètrica amb \", len(arr), 'elements')\n",
    "        break\n",
    "    else:\n",
    "        num = num + 1\n",
    "    if num == len(arr):\n",
    "        print(\"Aquesta lista es simètrica amb \", len(arr), 'elements')"
   ]
  },
  {
   "cell_type": "markdown",
   "metadata": {},
   "source": [
    " ## <span style=color:red><b><u>EXERCISE - 5</u></b></span>"
   ]
  },
  {
   "cell_type": "markdown",
   "metadata": {},
   "source": [
    "Crea un programa que donada una llista, et digui quants números coincideixen amb la seva posició. Per exemple [3,4,2,0,2,3,6] el 2 i el 6 coincideixen."
   ]
  },
  {
   "cell_type": "code",
   "execution_count": 8,
   "metadata": {
    "ExecuteTime": {
     "end_time": "2021-01-21T17:55:17.996621Z",
     "start_time": "2021-01-21T17:55:17.989640Z"
    }
   },
   "outputs": [
    {
     "name": "stdout",
     "output_type": "stream",
     "text": [
      "El número 2 coincideix amb la seva posició a la llista!\n",
      "El número 6 coincideix amb la seva posició a la llista!\n",
      "[2, 6]\n"
     ]
    }
   ],
   "source": [
    "def num_igual_pos(llista):\n",
    "    \"\"\"\n",
    "    Donada una llista, torna una llista de números \n",
    "    que coincideixen amb la seva posició.\n",
    "    \"\"\"\n",
    "    llista_coincident = []\n",
    "    for num in llista:\n",
    "        if num == llista[num] and (num not in llista_coincident):\n",
    "            print(f\"El número {num} coincideix amb la seva posició a la llista!\")\n",
    "            llista_coincident.append(num)\n",
    "    return llista_coincident\n",
    "\n",
    "print(num_igual_pos([3,4,2,0,2,3,6]))"
   ]
  },
  {
   "cell_type": "markdown",
   "metadata": {},
   "source": [
    "## - Exercici 5, opcio \"a\""
   ]
  },
  {
   "cell_type": "code",
   "execution_count": 9,
   "metadata": {
    "ExecuteTime": {
     "end_time": "2021-02-15T16:13:35.817087Z",
     "start_time": "2021-02-15T16:13:16.841471Z"
    }
   },
   "outputs": [
    {
     "name": "stdout",
     "output_type": "stream",
     "text": [
      "Introduce los números que quieras separándolos por comas: 1,0, 2, 3\n",
      "Coincide con su posición: [2, 3]\n"
     ]
    }
   ],
   "source": [
    "# creación de lista\n",
    "numeros = list(map(int, input('Introduce los números que quieras separándolos por comas: ').split(\",\")))\n",
    "\n",
    "# saber cuantos números coinciden con su posición dentro de la lista\n",
    "lista_coincidente = []\n",
    "\n",
    "for i, c in enumerate(numeros):\n",
    "    if i == c:\n",
    "        lista_coincidente.append(i)\n",
    "\n",
    "def is_empty(lista_union):\n",
    "    if lista_coincidente:\n",
    "        print('Coincide con su posición: ' + str(lista_coincidente) )\n",
    "    else:\n",
    "        print('Ningún número coincide con su posición')\n",
    "        \n",
    "\n",
    "is_empty(lista_coincidente)"
   ]
  },
  {
   "cell_type": "markdown",
   "metadata": {},
   "source": [
    "## - Exercici 5, opcio \"b\""
   ]
  },
  {
   "cell_type": "code",
   "execution_count": 14,
   "metadata": {
    "ExecuteTime": {
     "end_time": "2021-02-15T16:29:52.187951Z",
     "start_time": "2021-02-15T16:29:52.182965Z"
    }
   },
   "outputs": [],
   "source": [
    "my_list= [3,4,2,0,2,3,6]\n",
    "my_list_2=[1,1,3,5,6,7,8,2,8,0,10]"
   ]
  },
  {
   "cell_type": "code",
   "execution_count": 15,
   "metadata": {
    "ExecuteTime": {
     "end_time": "2021-02-15T16:30:07.627618Z",
     "start_time": "2021-02-15T16:30:07.623626Z"
    }
   },
   "outputs": [],
   "source": [
    "def coincidencias(my_list):\n",
    "    for i,el in enumerate(my_list):\n",
    "        if el == i:\n",
    "            print(el)"
   ]
  },
  {
   "cell_type": "code",
   "execution_count": 16,
   "metadata": {
    "ExecuteTime": {
     "end_time": "2021-02-15T16:30:25.710180Z",
     "start_time": "2021-02-15T16:30:25.706191Z"
    }
   },
   "outputs": [
    {
     "name": "stdout",
     "output_type": "stream",
     "text": [
      "2\n",
      "6\n"
     ]
    }
   ],
   "source": [
    "coincidencias(my_list)"
   ]
  },
  {
   "cell_type": "code",
   "execution_count": 17,
   "metadata": {
    "ExecuteTime": {
     "end_time": "2021-02-15T16:30:43.294134Z",
     "start_time": "2021-02-15T16:30:43.289148Z"
    }
   },
   "outputs": [
    {
     "name": "stdout",
     "output_type": "stream",
     "text": [
      "1\n",
      "8\n",
      "10\n"
     ]
    }
   ],
   "source": [
    "coincidencias(my_list_2)"
   ]
  },
  {
   "cell_type": "markdown",
   "metadata": {},
   "source": [
    "## - Exercici 5, opcio \"c\""
   ]
  },
  {
   "cell_type": "code",
   "execution_count": 36,
   "metadata": {
    "ExecuteTime": {
     "end_time": "2021-02-15T16:57:41.312975Z",
     "start_time": "2021-02-15T16:57:41.307987Z"
    }
   },
   "outputs": [],
   "source": [
    "lista=[3,4,2,0,2,3,6,7]"
   ]
  },
  {
   "cell_type": "code",
   "execution_count": 38,
   "metadata": {
    "ExecuteTime": {
     "end_time": "2021-02-15T16:58:01.955291Z",
     "start_time": "2021-02-15T16:58:01.947315Z"
    }
   },
   "outputs": [
    {
     "name": "stdout",
     "output_type": "stream",
     "text": [
      "[2, 6, 7]\n"
     ]
    },
    {
     "data": {
      "text/plain": [
       "3"
      ]
     },
     "execution_count": 38,
     "metadata": {},
     "output_type": "execute_result"
    }
   ],
   "source": [
    "# Lista con los números que coindiden con su índice.\n",
    "print([elemento for elemento in range(len(lista)) if elemento==lista[elemento]])\n",
    "\n",
    "# Total de números que coindiden con su índice.\n",
    "len([elemento for elemento in range(len(lista)) if elemento==lista[elemento]])"
   ]
  },
  {
   "cell_type": "markdown",
   "metadata": {},
   "source": [
    "## - Exercici 5, opcio \"d\""
   ]
  },
  {
   "cell_type": "code",
   "execution_count": 47,
   "metadata": {
    "ExecuteTime": {
     "end_time": "2021-02-15T17:15:46.152571Z",
     "start_time": "2021-02-15T17:15:46.147578Z"
    }
   },
   "outputs": [],
   "source": [
    "def coincideix_amb_index(llista):\n",
    "    coincideix = []\n",
    "    for i, v in enumerate(llista):\n",
    "        if i==v:\n",
    "            coincideix.append(v)\n",
    "    \n",
    "    return coincideix"
   ]
  },
  {
   "cell_type": "code",
   "execution_count": 48,
   "metadata": {
    "ExecuteTime": {
     "end_time": "2021-02-15T17:16:16.763544Z",
     "start_time": "2021-02-15T17:16:16.756563Z"
    }
   },
   "outputs": [
    {
     "data": {
      "text/plain": [
       "[1, 3, 9]"
      ]
     },
     "execution_count": 48,
     "metadata": {},
     "output_type": "execute_result"
    }
   ],
   "source": [
    "coincideix_amb_index([1,1,0,3,8,4,5,2,6,9])"
   ]
  },
  {
   "cell_type": "markdown",
   "metadata": {},
   "source": [
    "## - Exercici 5, opcio \"e\""
   ]
  },
  {
   "cell_type": "code",
   "execution_count": 35,
   "metadata": {
    "ExecuteTime": {
     "end_time": "2021-03-18T15:35:19.289704Z",
     "start_time": "2021-03-18T15:35:19.276739Z"
    }
   },
   "outputs": [],
   "source": [
    "## Generem la funció\n",
    "import random as rand\n",
    "\n",
    "def fun(llista):\n",
    "    nums = list()\n",
    "    for count, item in enumerate(llista):\n",
    "        if count == item: nums.append(count)\n",
    "    return len(nums), nums"
   ]
  },
  {
   "cell_type": "code",
   "execution_count": 39,
   "metadata": {
    "ExecuteTime": {
     "end_time": "2021-03-18T15:35:47.106586Z",
     "start_time": "2021-03-18T15:35:47.097610Z"
    }
   },
   "outputs": [
    {
     "name": "stdout",
     "output_type": "stream",
     "text": [
      "[3, 0, 2, 1, 4]\n",
      "2 [2, 4]\n"
     ]
    }
   ],
   "source": [
    "## Provem la funció \n",
    "llista = rand.sample(list(range(5)),5); print (llista)\n",
    "suma, nums = fun(llista)\n",
    "print(suma, nums)"
   ]
  },
  {
   "cell_type": "markdown",
   "metadata": {},
   "source": [
    "## - Exercici 5, opcio \"f\""
   ]
  },
  {
   "cell_type": "code",
   "execution_count": 5,
   "metadata": {
    "ExecuteTime": {
     "end_time": "2021-03-18T17:27:48.974332Z",
     "start_time": "2021-03-18T17:27:48.963366Z"
    }
   },
   "outputs": [
    {
     "name": "stdout",
     "output_type": "stream",
     "text": [
      "La cantidad de valores que coinciden con su índice son:  3\n"
     ]
    }
   ],
   "source": [
    "# Crear programa en el que se detalle cuántos números con el orden actual coinciden con su índice\n",
    "\n",
    "numero = [9, 1, 2, 3, 3]\n",
    "\n",
    "coincidencia = 0\n",
    "x = 0\n",
    "\n",
    "for element in numero:    \n",
    "    if numero[x] == x:\n",
    "        coincidencia += 1\n",
    "        x += 1\n",
    "    else:\n",
    "        coincidencia += 0\n",
    "        x += 1\n",
    "\n",
    "print(\"La cantidad de valores que coinciden con su índice son: \", coincidencia)"
   ]
  },
  {
   "cell_type": "code",
   "execution_count": 10,
   "metadata": {
    "ExecuteTime": {
     "end_time": "2021-03-18T17:38:44.975159Z",
     "start_time": "2021-03-18T17:38:44.971170Z"
    }
   },
   "outputs": [],
   "source": [
    "listado=[20,1,76,94,4,12,8,9,6,85,10,74,36]"
   ]
  },
  {
   "cell_type": "code",
   "execution_count": 19,
   "metadata": {
    "ExecuteTime": {
     "end_time": "2021-03-18T17:40:24.191643Z",
     "start_time": "2021-03-18T17:40:24.180675Z"
    }
   },
   "outputs": [],
   "source": [
    "def coincidentes(X):\n",
    "    for index, value in enumerate(listado): \n",
    "        if index==value:\n",
    "            print(index)"
   ]
  },
  {
   "cell_type": "code",
   "execution_count": 20,
   "metadata": {
    "ExecuteTime": {
     "end_time": "2021-03-18T17:40:26.407448Z",
     "start_time": "2021-03-18T17:40:26.399469Z"
    }
   },
   "outputs": [
    {
     "name": "stdout",
     "output_type": "stream",
     "text": [
      "1\n",
      "4\n",
      "10\n"
     ]
    }
   ],
   "source": [
    "coincidentes(listado)"
   ]
  },
  {
   "cell_type": "markdown",
   "metadata": {},
   "source": [
    "## - Exercici 5, opcio \"g\""
   ]
  },
  {
   "cell_type": "code",
   "execution_count": 1,
   "metadata": {
    "ExecuteTime": {
     "end_time": "2021-03-25T15:57:59.221565Z",
     "start_time": "2021-03-25T15:57:59.202617Z"
    }
   },
   "outputs": [
    {
     "name": "stdout",
     "output_type": "stream",
     "text": [
      "El número 0 coincideix amb la seva posició\n",
      "El número 1 coincideix amb la seva posició\n",
      "El número 2 coincideix amb la seva posició\n",
      "El número 3 coincideix amb la seva posició\n",
      "El número 4 coincideix amb la seva posició\n",
      "Hi ha 5 números que coincideixen amb la seva posició\n",
      "El número 1 coincideix amb la seva posició\n",
      "El número 3 coincideix amb la seva posició\n",
      "El número 6 coincideix amb la seva posició\n",
      "Hi ha 3 números que coincideixen amb la seva posició\n",
      "El número 2 coincideix amb la seva posició\n",
      "El número 4 coincideix amb la seva posició\n",
      "El número 12 coincideix amb la seva posició\n",
      "Hi ha 3 números que coincideixen amb la seva posició\n"
     ]
    }
   ],
   "source": [
    "def posicio(llista):\n",
    "        q = 0\n",
    "        for i in range(len(llista)):\n",
    "            if i == llista[i]:\n",
    "                print('El número {} coincideix amb la seva posició'.format(i))\n",
    "                q += 1\n",
    "        print('Hi ha {} números que coincideixen amb la seva posició'.format(q))\n",
    "        \n",
    "posicio([0,1,2,3,4])\n",
    "posicio([3,1,5,3,6,6,6,6])\n",
    "posicio([1,6,2,'hola',4,'a',8,9,0,3,2,12,12,12,12,12,12])"
   ]
  },
  {
   "cell_type": "markdown",
   "metadata": {},
   "source": [
    "## - Exercici 5, opcio \"h\""
   ]
  },
  {
   "cell_type": "code",
   "execution_count": 19,
   "metadata": {
    "ExecuteTime": {
     "end_time": "2021-03-21T18:19:09.606607Z",
     "start_time": "2021-03-21T18:19:09.585664Z"
    }
   },
   "outputs": [
    {
     "name": "stdout",
     "output_type": "stream",
     "text": [
      "[7 2 5 0 3 2 8 0 7 7]\n",
      "El numero  4 coincideix amb la posició 3\n",
      "El numero  8 coincideix amb la posició 7\n"
     ]
    }
   ],
   "source": [
    "import numpy #(no esta bien)\n",
    "lst =numpy.random.randint(10, size=(10))\n",
    "\n",
    "print(lst)\n",
    "for num, pos in list(enumerate(lst)):\n",
    "    if int(num) == int(pos + 1 ):\n",
    "        print('El numero ', num,'coincideix amb la posició', pos)"
   ]
  }
 ],
 "metadata": {
  "kernelspec": {
   "display_name": "Python 3",
   "language": "python",
   "name": "python3"
  },
  "language_info": {
   "codemirror_mode": {
    "name": "ipython",
    "version": 3
   },
   "file_extension": ".py",
   "mimetype": "text/x-python",
   "name": "python",
   "nbconvert_exporter": "python",
   "pygments_lexer": "ipython3",
   "version": "3.7.0"
  },
  "toc": {
   "base_numbering": 1,
   "nav_menu": {},
   "number_sections": true,
   "sideBar": true,
   "skip_h1_title": false,
   "title_cell": "Table of Contents",
   "title_sidebar": "Contents",
   "toc_cell": false,
   "toc_position": {
    "height": "calc(100% - 180px)",
    "left": "10px",
    "top": "150px",
    "width": "307.2px"
   },
   "toc_section_display": true,
   "toc_window_display": false
  },
  "varInspector": {
   "cols": {
    "lenName": 16,
    "lenType": 16,
    "lenVar": 40
   },
   "kernels_config": {
    "python": {
     "delete_cmd_postfix": "",
     "delete_cmd_prefix": "del ",
     "library": "var_list.py",
     "varRefreshCmd": "print(var_dic_list())"
    },
    "r": {
     "delete_cmd_postfix": ") ",
     "delete_cmd_prefix": "rm(",
     "library": "var_list.r",
     "varRefreshCmd": "cat(var_dic_list()) "
    }
   },
   "types_to_exclude": [
    "module",
    "function",
    "builtin_function_or_method",
    "instance",
    "_Feature"
   ],
   "window_display": false
  }
 },
 "nbformat": 4,
 "nbformat_minor": 2
}
