{
 "cells": [
  {
   "attachments": {
    "IT%20Logo.png": {
     "image/png": "[encoded data removed]"
    }
   },
   "cell_type": "markdown",
   "metadata": {},
   "source": [
    "![IT%20Logo.png](attachment:IT%20Logo.png)"
   ]
  },
  {
   "cell_type": "markdown",
   "metadata": {},
   "source": [
    "<div class=\"alert alert-block alert-info\"><font size=\"5\"><center><b>Resolució dels Problemes\n",
    "</b></center></font>\n",
    "\n",
    "<div class=\"alert alert-block alert-info\"><font size=\"5\"><center><b><u>Spring 3 - Tasca 2 Estructura de dades\n",
    "</u></b></center></font>\n",
    "    \n",
    "$%$       \n",
    "\\begin{align*}Alex\\:Kumenius\\end{align*}\n",
    "\\begin{align*}Business\\hspace{2mm}Intelligence\\hspace{2mm}and\\hspace{2mm}Data\\hspace{2mm}Scientist\\hspace{2mm}Project\\hspace{2mm}Integrator\\end{align*}\n",
    "$%$       \n",
    "\\begin{align*}Date : Febrer\\hspace{2mm}2021\\end{align*}</div>"
   ]
  },
  {
   "cell_type": "code",
   "execution_count": null,
   "metadata": {
    "ExecuteTime": {
     "end_time": "2021-02-25T14:21:26.609637Z",
     "start_time": "2021-02-25T14:21:24.933201Z"
    }
   },
   "outputs": [],
   "source": [
    "import pandas as pd"
   ]
  },
  {
   "cell_type": "markdown",
   "metadata": {
    "solution2": "hidden",
    "solution2_first": true
   },
   "source": [
    "### <span style=color:red><b><u>EXERCISE - 1</u></b></span>\n",
    "\n",
    "<span style=color:darkblue>Crea una llista que agrupi els mesos de l’any en trimestres (1T: Gener, Febrer i Març, 2T: Abril, Maig, Juny...), és a dir, una llista amb 4 llistes dins.</span>"
   ]
  },
  {
   "cell_type": "code",
   "execution_count": null,
   "metadata": {
    "ExecuteTime": {
     "end_time": "2021-02-25T14:21:34.282847Z",
     "start_time": "2021-02-25T14:21:34.266893Z"
    },
    "solution2": "hidden"
   },
   "outputs": [],
   "source": [
    "mesos_trimestres = [[\"Gener\", \"Febrer\", \"Març\"], [\"Abril\", \"Maig\", \"Juny\"], \n",
    "                     [\"Juliol\", \"Agost\", \"Setembre\"], [\"Octubre\", \"Novembre\", \"Desembre\"]]\n",
    "mesos_trimestres"
   ]
  },
  {
   "cell_type": "code",
   "execution_count": null,
   "metadata": {
    "ExecuteTime": {
     "end_time": "2021-02-25T14:21:36.546950Z",
     "start_time": "2021-02-25T14:21:36.540008Z"
    },
    "solution2": "hidden"
   },
   "outputs": [],
   "source": [
    "# creació de trimestres\n",
    "trim1 = ['Gener', 'Febrer', 'Març']\n",
    "trim2 = ['Abril','Maig','Juny']\n",
    "trim3 = ['Juliol','Agost','Septembre']\n",
    "trim4 = ['Octubre','Novembre','Desembre']\n",
    "any = [trim1, trim2, trim3, trim4]\n",
    "\n",
    "print(any)"
   ]
  },
  {
   "cell_type": "markdown",
   "metadata": {
    "solution2": "hidden",
    "solution2_first": true
   },
   "source": [
    "### <span style=color:red><b><u>EXERCISE - 2</u></b></span>\n",
    "\n",
    "Crea un codi que et permeti accedir a:\n",
    "\n",
    "El segon mes del primer trimestre   \n",
    "Els mesos del primer trimestre   \n",
    "Setembre i octubre   "
   ]
  },
  {
   "cell_type": "code",
   "execution_count": null,
   "metadata": {
    "ExecuteTime": {
     "end_time": "2021-02-25T14:25:04.834461Z",
     "start_time": "2021-02-25T14:25:04.828478Z"
    },
    "solution2": "hidden"
   },
   "outputs": [],
   "source": [
    "mes1_trimestre1 = mesos_trimestres[0][1]\n",
    "primer_trimestre = mesos_trimestres[0]\n",
    "setembre_octubre = [mesos_trimestres[2][2], mesos_trimestres[3][0]]"
   ]
  },
  {
   "cell_type": "code",
   "execution_count": null,
   "metadata": {
    "ExecuteTime": {
     "end_time": "2021-02-25T14:25:06.489221Z",
     "start_time": "2021-02-25T14:25:06.481277Z"
    },
    "solution2": "hidden"
   },
   "outputs": [],
   "source": [
    "(mes1_trimestre1,\n",
    "primer_trimestre,\n",
    "setembre_octubre)"
   ]
  },
  {
   "cell_type": "markdown",
   "metadata": {
    "solution2": "hidden",
    "solution2_first": true
   },
   "source": [
    "### <span style=color:red><b><u>EXERCISE - Opciò 2a</u></b></span>"
   ]
  },
  {
   "cell_type": "code",
   "execution_count": null,
   "metadata": {
    "ExecuteTime": {
     "end_time": "2021-02-24T17:12:47.478538Z",
     "start_time": "2021-02-24T17:12:47.472554Z"
    },
    "scrolled": true,
    "solution2": "hidden"
   },
   "outputs": [],
   "source": [
    "T1 = ['gener', 'febrer', 'març']\n",
    "T2 = ['abril', 'maig', 'juny']\n",
    "T3 = ['julior', 'agost', 'setembre']\n",
    "T4 = ['octubre', 'novembre', 'desembre']\n",
    "\n",
    "trimestres = [[T1[1], T1, T3[2], T4[0]]]\n",
    "# print(trimestres)\n",
    "trimestres"
   ]
  },
  {
   "cell_type": "markdown",
   "metadata": {
    "solution2": "hidden",
    "solution2_first": true
   },
   "source": [
    "### <span style=color:red><b><u>EXERCISE - Opciò 2b</u></b></span>"
   ]
  },
  {
   "cell_type": "code",
   "execution_count": null,
   "metadata": {
    "ExecuteTime": {
     "end_time": "2021-02-25T14:25:38.338550Z",
     "start_time": "2021-02-25T14:25:38.330585Z"
    },
    "solution2": "hidden"
   },
   "outputs": [],
   "source": [
    "Any = [['gener', 'febrer', 'març'], ['abril', 'maig', 'juny'],['julior', 'agost', 'setembre'], ['octubre', 'novembre', 'desembre']]\n",
    "Any"
   ]
  },
  {
   "cell_type": "code",
   "execution_count": null,
   "metadata": {
    "ExecuteTime": {
     "end_time": "2021-02-25T14:25:43.235168Z",
     "start_time": "2021-02-25T14:25:43.228187Z"
    },
    "solution2": "hidden"
   },
   "outputs": [],
   "source": [
    "Any[0], Any[1], Any[2], Any[3]"
   ]
  },
  {
   "cell_type": "code",
   "execution_count": null,
   "metadata": {
    "ExecuteTime": {
     "end_time": "2021-02-25T14:25:50.449071Z",
     "start_time": "2021-02-25T14:25:50.441090Z"
    },
    "solution2": "hidden"
   },
   "outputs": [],
   "source": [
    "Any[0][1], Any[0], Any[2][2], Any[3][0]"
   ]
  },
  {
   "cell_type": "markdown",
   "metadata": {
    "solution2": "hidden",
    "solution2_first": true
   },
   "source": [
    "### <span style=color:red><b><u>EXERCISE - 3</u></b></span>   \n",
    "\n",
    "#### Crea una llista amb nombres desordenats.   "
   ]
  },
  {
   "cell_type": "code",
   "execution_count": null,
   "metadata": {
    "ExecuteTime": {
     "end_time": "2021-02-25T17:00:52.069470Z",
     "start_time": "2021-02-25T17:00:52.063519Z"
    },
    "solution2": "hidden"
   },
   "outputs": [],
   "source": [
    "## Crea una llista amb numeros desordenats\n",
    "\n",
    "import random as rand\n",
    "\n",
    "random_list = rand.choices(range(10), k=20)\n",
    "\n",
    "print (random_list)"
   ]
  },
  {
   "cell_type": "code",
   "execution_count": null,
   "metadata": {
    "ExecuteTime": {
     "end_time": "2021-01-21T16:21:39.351738Z",
     "start_time": "2021-01-21T16:21:39.346751Z"
    },
    "solution2": "hidden"
   },
   "outputs": [],
   "source": [
    "import random\n",
    "\n",
    "random.seed(15)\n",
    "\n",
    "numbers = random.sample(range(1, 50), 20)\n",
    "\n",
    "print(numbers)"
   ]
  },
  {
   "cell_type": "code",
   "execution_count": null,
   "metadata": {
    "ExecuteTime": {
     "end_time": "2021-02-15T14:52:56.732769Z",
     "start_time": "2021-02-15T14:52:56.726787Z"
    },
    "solution2": "hidden"
   },
   "outputs": [],
   "source": [
    "import random as rd\n",
    "llista = []\n",
    "\n",
    "for i in range(0,10):\n",
    "    llista.append(rd.randint(1,10))\n",
    "print(llista)"
   ]
  },
  {
   "cell_type": "markdown",
   "metadata": {
    "solution2": "hidden",
    "solution2_first": true
   },
   "source": [
    "#### Quants números hi ha?   "
   ]
  },
  {
   "cell_type": "code",
   "execution_count": null,
   "metadata": {
    "ExecuteTime": {
     "end_time": "2021-02-25T17:00:58.372357Z",
     "start_time": "2021-02-25T17:00:58.367371Z"
    },
    "solution2": "hidden"
   },
   "outputs": [],
   "source": [
    "# Quants números hi ha?  \n",
    "\n",
    "random_list_length = len(random_list)\n",
    "print(f\"Quants números hi ha? {random_list_length}\")"
   ]
  },
  {
   "cell_type": "markdown",
   "metadata": {
    "solution2": "hidden",
    "solution2_first": true
   },
   "source": [
    "#### Quantes vegades apareix el número 3   "
   ]
  },
  {
   "cell_type": "code",
   "execution_count": null,
   "metadata": {
    "ExecuteTime": {
     "end_time": "2021-02-25T17:01:22.275333Z",
     "start_time": "2021-02-25T17:01:22.270383Z"
    },
    "solution2": "hidden"
   },
   "outputs": [],
   "source": [
    "# Quantes vegades apareix el número 3\n",
    "\n",
    "len([elem for elem in random_list if elem==3])"
   ]
  },
  {
   "cell_type": "code",
   "execution_count": null,
   "metadata": {
    "ExecuteTime": {
     "end_time": "2021-02-25T17:01:39.541326Z",
     "start_time": "2021-02-25T17:01:39.534345Z"
    },
    "solution2": "hidden"
   },
   "outputs": [],
   "source": [
    "# Quantes vegades apareix el número 3  \n",
    "\n",
    "random_list_3 = random_list.count(3)\n",
    "print(f\"Quantes vegades apareix el número 3? {random_list_3}\")\n",
    "random_list_3"
   ]
  },
  {
   "cell_type": "code",
   "execution_count": null,
   "metadata": {
    "ExecuteTime": {
     "end_time": "2021-02-25T17:01:42.202388Z",
     "start_time": "2021-02-25T17:01:42.198402Z"
    },
    "solution2": "hidden"
   },
   "outputs": [],
   "source": [
    "print(f\"Quantes vegades apareix el número 3? {random_list.count(3)}\")"
   ]
  },
  {
   "cell_type": "code",
   "execution_count": null,
   "metadata": {
    "ExecuteTime": {
     "end_time": "2021-02-25T17:01:47.748690Z",
     "start_time": "2021-02-25T17:01:47.741712Z"
    },
    "solution2": "hidden"
   },
   "outputs": [],
   "source": [
    "# Quantes vegades apareix el número 3  \n",
    "\n",
    "random_list_3 = random_list.count(3)\n",
    "print(f\"Quantes vegades apareix el número 3? {random_list_3}\")\n",
    "random_list_3"
   ]
  },
  {
   "cell_type": "code",
   "execution_count": null,
   "metadata": {
    "ExecuteTime": {
     "end_time": "2021-02-25T15:08:34.340852Z",
     "start_time": "2021-02-25T15:08:34.335900Z"
    },
    "solution2": "hidden"
   },
   "outputs": [],
   "source": [
    "print(f\"Quantes vegades apareix el número 3? {random_list.count(3)}\")"
   ]
  },
  {
   "cell_type": "code",
   "execution_count": null,
   "metadata": {
    "ExecuteTime": {
     "end_time": "2021-02-25T17:01:55.732326Z",
     "start_time": "2021-02-25T17:01:55.726345Z"
    },
    "solution2": "hidden"
   },
   "outputs": [],
   "source": [
    "# Quantes vegades apareix el número 3\n",
    "\n",
    "if 3 in random_list:\n",
    "    \n",
    "    print('It appears ' +  str(random_list.count(3)) + ' times.')\n",
    "else:\n",
    "    print('There is no number 3')"
   ]
  },
  {
   "cell_type": "markdown",
   "metadata": {
    "solution2": "hidden",
    "solution2_first": true
   },
   "source": [
    "#### Quantes vegades apareixen els nombres 3 i 4?   "
   ]
  },
  {
   "cell_type": "code",
   "execution_count": null,
   "metadata": {
    "ExecuteTime": {
     "end_time": "2021-02-25T17:02:11.452769Z",
     "start_time": "2021-02-25T17:02:11.446789Z"
    },
    "solution2": "hidden"
   },
   "outputs": [],
   "source": [
    "x = 0\n",
    "for i in range(0,len(random_list)):\n",
    "    if random_list[i] == 3:\n",
    "        x = x + 1 \n",
    "        print('el tres apareix =' , x , 'vegades')"
   ]
  },
  {
   "cell_type": "code",
   "execution_count": null,
   "metadata": {
    "ExecuteTime": {
     "end_time": "2021-02-25T17:02:23.869763Z",
     "start_time": "2021-02-25T17:02:23.861753Z"
    },
    "solution2": "hidden"
   },
   "outputs": [],
   "source": [
    "# Quantes vegades apareixen els nombres 3 i 4?\n",
    "\n",
    "len([elem for elem in random_list if elem == 3 or elem == 4])"
   ]
  },
  {
   "cell_type": "code",
   "execution_count": null,
   "metadata": {
    "ExecuteTime": {
     "end_time": "2021-02-25T17:03:34.028886Z",
     "start_time": "2021-02-25T17:03:34.022937Z"
    },
    "solution2": "hidden"
   },
   "outputs": [],
   "source": [
    "# Quantes vegades apareixen els nombres 3 i 4?\n",
    "\n",
    "random_list_3_4 = [random_list.count(3) + random_list.count(4)]\n",
    "\n",
    "# print(f\"Quantes vegades apareixen els nombres 3 i 4?? {random_list_3_4.count(3, 4)}\")\n",
    "\n",
    "random_list_3_4"
   ]
  },
  {
   "cell_type": "code",
   "execution_count": null,
   "metadata": {
    "ExecuteTime": {
     "end_time": "2021-02-25T17:03:40.956700Z",
     "start_time": "2021-02-25T17:03:40.949716Z"
    },
    "solution2": "hidden"
   },
   "outputs": [],
   "source": [
    "# Quantes vegades apareixen els nombres 3 i 4?\n",
    "\n",
    "random_list_3_4 = random_list.count(3) + random_list.count(4)\n",
    "\n",
    "# print(f\"Quantes vegades apareixen els nombres 3 i 4?? {unordered_list.count(3, 4)}\")\n",
    "\n",
    "random_list_3_4"
   ]
  },
  {
   "cell_type": "code",
   "execution_count": null,
   "metadata": {
    "ExecuteTime": {
     "end_time": "2021-02-25T17:03:45.220044Z",
     "start_time": "2021-02-25T17:03:45.213061Z"
    },
    "solution2": "hidden"
   },
   "outputs": [],
   "source": [
    "# Quantes vegades apareixen els nombres 3 i 4?\n",
    "\n",
    "if 3 or 4 in random_list:\n",
    "    \n",
    "    print('The number 3 appears ' +  str(random_list.count(3)) + ' times, and the number 4 appears '\n",
    "         + str(random_list.count(4)) + ' times.')\n",
    "    \n",
    "else:\n",
    "    print('There is no number')"
   ]
  },
  {
   "cell_type": "code",
   "execution_count": null,
   "metadata": {
    "ExecuteTime": {
     "end_time": "2021-02-25T17:03:57.131523Z",
     "start_time": "2021-02-25T17:03:57.125539Z"
    },
    "solution2": "hidden"
   },
   "outputs": [],
   "source": [
    "# Almacena el último resultado calculado\n",
    "_"
   ]
  },
  {
   "cell_type": "markdown",
   "metadata": {
    "solution2": "hidden",
    "solution2_first": true
   },
   "source": [
    "#### Quin és el número més gran?    "
   ]
  },
  {
   "cell_type": "code",
   "execution_count": null,
   "metadata": {
    "ExecuteTime": {
     "end_time": "2021-02-25T17:05:51.693917Z",
     "start_time": "2021-02-25T17:05:51.687933Z"
    },
    "solution2": "hidden"
   },
   "outputs": [],
   "source": [
    "# Quin és el número més gran?\n",
    "max(random_list)"
   ]
  },
  {
   "cell_type": "markdown",
   "metadata": {
    "solution2": "hidden",
    "solution2_first": true
   },
   "source": [
    "#### Quins són els 3 números més petits?   "
   ]
  },
  {
   "cell_type": "code",
   "execution_count": null,
   "metadata": {
    "ExecuteTime": {
     "end_time": "2021-02-25T17:06:03.163400Z",
     "start_time": "2021-02-25T17:06:03.158413Z"
    },
    "solution2": "hidden"
   },
   "outputs": [],
   "source": [
    "# incorrecto \n",
    "print(f'Els 3 números més petits son: {sorted(set(random_list))}')"
   ]
  },
  {
   "cell_type": "code",
   "execution_count": null,
   "metadata": {
    "ExecuteTime": {
     "end_time": "2021-02-25T17:06:04.882979Z",
     "start_time": "2021-02-25T17:06:04.877996Z"
    },
    "solution2": "hidden"
   },
   "outputs": [],
   "source": [
    "# ordenem la llista\n",
    "random_list.sort()\n",
    "\n",
    "# el resultat seran les 3 primeres posicions de la llista\n",
    "print(\"Els 3 números més petits son: {}, {} i {}\".format(*random_list[:3]))"
   ]
  },
  {
   "cell_type": "code",
   "execution_count": null,
   "metadata": {
    "ExecuteTime": {
     "end_time": "2021-02-25T17:06:07.876704Z",
     "start_time": "2021-02-25T17:06:07.869726Z"
    },
    "solution2": "hidden"
   },
   "outputs": [],
   "source": [
    "## Quins són els 3 números més petits?\n",
    "\n",
    "random_list_3_petits = set(random_list)\n",
    "for ii in range(3):\n",
    "    minim = min(random_list_3_petits)\n",
    "    print (minim, end= \" \")\n",
    "    random_list_3_petits.remove(minim)"
   ]
  },
  {
   "cell_type": "code",
   "execution_count": null,
   "metadata": {
    "ExecuteTime": {
     "end_time": "2021-02-25T17:06:09.291949Z",
     "start_time": "2021-02-25T17:06:09.285967Z"
    },
    "solution2": "hidden"
   },
   "outputs": [],
   "source": [
    "## Quins són els 3 números més petits?\n",
    "\n",
    "desordenats_unics = set(random_list)\n",
    "for ii in range(3):\n",
    "    minim = min(desordenats_unics)\n",
    "    print (minim, end= \" \")\n",
    "    desordenats_unics.remove(minim)"
   ]
  },
  {
   "cell_type": "markdown",
   "metadata": {
    "solution2": "hidden",
    "solution2_first": true
   },
   "source": [
    "#### Quin és el rang d’aquesta llista?   "
   ]
  },
  {
   "cell_type": "code",
   "execution_count": null,
   "metadata": {
    "ExecuteTime": {
     "end_time": "2021-02-25T15:38:22.149421Z",
     "start_time": "2021-02-25T15:38:22.142441Z"
    },
    "solution2": "hidden"
   },
   "outputs": [],
   "source": [
    "# Quin és el número més gran?\n",
    "max(random_list)"
   ]
  },
  {
   "cell_type": "code",
   "execution_count": null,
   "metadata": {
    "ExecuteTime": {
     "end_time": "2021-02-25T15:19:08.764848Z",
     "start_time": "2021-02-25T15:19:08.758863Z"
    },
    "solution2": "hidden"
   },
   "outputs": [],
   "source": [
    "print(f'El rang de la llista es min: {min(random_list)} i max: {max(random_list)} ')"
   ]
  },
  {
   "cell_type": "code",
   "execution_count": null,
   "metadata": {
    "ExecuteTime": {
     "end_time": "2021-02-25T15:39:04.773002Z",
     "start_time": "2021-02-25T15:39:04.767016Z"
    },
    "solution2": "hidden"
   },
   "outputs": [],
   "source": [
    "print ( \"Rango es  \",min(random_list),  '-' , max(random_list) )"
   ]
  },
  {
   "cell_type": "code",
   "execution_count": null,
   "metadata": {
    "ExecuteTime": {
     "end_time": "2021-02-25T15:39:48.634726Z",
     "start_time": "2021-02-25T15:39:48.630738Z"
    },
    "solution2": "hidden"
   },
   "outputs": [],
   "source": [
    "print ( f\"Valor min {min(random_list)}, y max {max(random_list) }\" )"
   ]
  },
  {
   "cell_type": "markdown",
   "metadata": {},
   "source": [
    "### <span style=color:red><b><u>EXERCICI 3 - Opcion b</u></b></span>"
   ]
  },
  {
   "cell_type": "markdown",
   "metadata": {
    "ExecuteTime": {
     "end_time": "2021-01-19T16:49:51.590063Z",
     "start_time": "2021-01-19T16:49:51.584080Z"
    },
    "solution2": "hidden",
    "solution2_first": true
   },
   "source": [
    "'''Quins són els 3 números més petits?\n",
    "Ordenamos la lista'''"
   ]
  },
  {
   "cell_type": "code",
   "execution_count": null,
   "metadata": {
    "ExecuteTime": {
     "end_time": "2021-02-25T15:52:27.521202Z",
     "start_time": "2021-02-25T15:52:27.514222Z"
    },
    "solution2": "hidden"
   },
   "outputs": [],
   "source": [
    "## Quins són els 3 números més petits?\n",
    "desordenats_unics = set(random_list)\n",
    "desordenats_unics"
   ]
  },
  {
   "cell_type": "code",
   "execution_count": null,
   "metadata": {
    "ExecuteTime": {
     "end_time": "2021-02-25T16:12:09.380914Z",
     "start_time": "2021-02-25T16:12:09.375927Z"
    },
    "solution2": "hidden"
   },
   "outputs": [],
   "source": [
    "# ordenem la llista\n",
    "random_list.sort()\n",
    "\n",
    "# el resultat seran les 3 primeres posicions de la llista\n",
    "print(\"Els 3 números més petits son: {}, {} i {}\".format(*random_list[:3]))"
   ]
  },
  {
   "cell_type": "code",
   "execution_count": null,
   "metadata": {
    "ExecuteTime": {
     "end_time": "2021-02-25T16:30:42.785964Z",
     "start_time": "2021-02-25T16:30:42.780946Z"
    },
    "solution2": "hidden"
   },
   "outputs": [],
   "source": [
    "# Correcto!!!\n",
    "tres_numeros_petits = sorted(random_list)[0:3]\n",
    "print(f\"Quins són els 3 números més petits? {tres_numeros_petits}\")"
   ]
  },
  {
   "cell_type": "markdown",
   "metadata": {
    "solution2": "hidden",
    "solution2_first": true
   },
   "source": [
    "### <span style=color:red><b><u>EXERCICI 3 - Opcion c</u></b></span>"
   ]
  },
  {
   "cell_type": "code",
   "execution_count": null,
   "metadata": {
    "ExecuteTime": {
     "end_time": "2021-02-25T16:34:27.139624Z",
     "start_time": "2021-02-25T16:34:27.133639Z"
    },
    "solution2": "hidden"
   },
   "outputs": [],
   "source": [
    "print ('Total numbers: ' + str(len(random_list)))\n",
    "print ('Number 3: ' + str(random_list.count(3)))\n",
    "print ('Number 3 and 4: ' + str(random_list.count(3)) + ' and ' + str(random_list.count(3)))\n",
    "print ('The largest number: ' + str(max(random_list)))\n",
    "print ('The 3 smallest numbers: ' + str(sorted(random_list)[:3]))\n",
    "print ('The range of the list: ' + str(min(random_list)) + ' to ' + str(max(random_list)))"
   ]
  },
  {
   "cell_type": "markdown",
   "metadata": {
    "solution2": "hidden",
    "solution2_first": true
   },
   "source": [
    "### <span style=color:red><b><u>EXERCICI 3 - Opcion d</u></b></span>"
   ]
  },
  {
   "cell_type": "code",
   "execution_count": null,
   "metadata": {
    "ExecuteTime": {
     "end_time": "2021-02-15T15:46:24.807092Z",
     "start_time": "2021-02-15T15:46:24.798117Z"
    },
    "solution2": "hidden"
   },
   "outputs": [],
   "source": [
    "# creación de lista con números desordenados\n",
    "list = [3, 2, 6, 4, 8, 9, 6, 4, 5, 4]\n",
    "\n",
    "# total de números\n",
    "print('Hay ' + str(len(list)) + ' números en total')\n",
    "\n",
    "# cuantas veces aparece el número 3 en la lista\n",
    "if list.count(3) < 2:\n",
    "    print('El número 3 aparece ' + str(list.count(3))+ ' vez')\n",
    "else:\n",
    "    print('El número 3 aparece ' + str(list.count(3))+ ' veces')\n",
    "\n",
    "# cuantas veces aparecen los números 3 y 4 en la lista\n",
    "print('El número 3 aparece ' + str(list.count(3)) + ' y el número 4 aparece ' + str(list.count(4)))\n",
    "\n",
    "# el número más grande\n",
    "print('El número más alto es el: '+ str(max(list)))\n",
    "\n",
    "# los tres números más pequeños\n",
    "list.sort()\n",
    "print('Los tres números más pequeños son: ' + str(list[:3]))\n",
    "\n",
    "# rango de la lista\n",
    "\n",
    "\n",
    "print('La lista tiene el ' + str(range(len(list))))"
   ]
  },
  {
   "cell_type": "markdown",
   "metadata": {},
   "source": [
    "### <span style=color:red><b><u>EXERCICI 4</u></b></span>"
   ]
  },
  {
   "cell_type": "markdown",
   "metadata": {},
   "source": [
    "Crea un diccionari de la següent forma i respon a les preguntes:\n",
    "\n",
    "compra = { \"Pomes\" : {\"Qty\": 5, \"€\": 0.42}, \"Peres\" : {\"Qty\": 3, \"€\": 0.66} }\n",
    "\n",
    "- Afegeix alguna fruita més   \n",
    "- Quant han costat les peres en total?   \n",
    "- Quantes fruites hem comprat en total?  \n",
    "- Quina és la fruita més cara?  "
   ]
  },
  {
   "cell_type": "markdown",
   "metadata": {
    "solution2": "hidden",
    "solution2_first": true
   },
   "source": [
    "Crea un diccionari de la següent forma i respon a les preguntes:"
   ]
  },
  {
   "cell_type": "code",
   "execution_count": null,
   "metadata": {
    "ExecuteTime": {
     "end_time": "2021-01-19T16:30:59.837072Z",
     "start_time": "2021-01-19T16:30:59.829094Z"
    },
    "solution2": "hidden"
   },
   "outputs": [],
   "source": [
    "compra = { \"Pomes\" : {\"Qty\": 5, \"€\": 0.42}, \"Peres\" : {\"Qty\": 3, \"€\": 0.66} }\n",
    "compra"
   ]
  },
  {
   "cell_type": "markdown",
   "metadata": {
    "ExecuteTime": {
     "end_time": "2021-01-19T16:30:36.587737Z",
     "start_time": "2021-01-19T16:30:36.581752Z"
    },
    "solution2": "hidden",
    "solution2_first": true
   },
   "source": [
    "- Afegeix alguna fruita més   "
   ]
  },
  {
   "cell_type": "code",
   "execution_count": null,
   "metadata": {
    "ExecuteTime": {
     "end_time": "2021-01-19T16:31:52.132193Z",
     "start_time": "2021-01-19T16:31:52.124213Z"
    },
    "solution2": "hidden"
   },
   "outputs": [],
   "source": [
    "compra['Platans'] = {'Qty': 6, '€': 0.71}\n",
    "compra['Mandarines'] = {'Qty': 9, '€': 0.12}\n",
    "compra.update({'Taronges': {'Qty': 3, '€':0.51},\n",
    "              'Cireres': {'Qty':1, '€':3.1}})\n",
    "compra"
   ]
  },
  {
   "cell_type": "markdown",
   "metadata": {
    "ExecuteTime": {
     "end_time": "2021-01-19T16:32:11.247110Z",
     "start_time": "2021-01-19T16:32:11.241127Z"
    },
    "solution2": "hidden",
    "solution2_first": true
   },
   "source": [
    "- Quant han costat les peres en total?   "
   ]
  },
  {
   "cell_type": "code",
   "execution_count": null,
   "metadata": {
    "ExecuteTime": {
     "end_time": "2021-01-19T16:32:56.813356Z",
     "start_time": "2021-01-19T16:32:56.807373Z"
    },
    "solution2": "hidden"
   },
   "outputs": [],
   "source": [
    "# Incorrecto\n",
    "np.prod((compra['Peres'].values()))"
   ]
  },
  {
   "cell_type": "code",
   "execution_count": null,
   "metadata": {
    "ExecuteTime": {
     "end_time": "2021-01-19T16:59:32.190974Z",
     "start_time": "2021-01-19T16:59:32.184954Z"
    },
    "solution2": "hidden"
   },
   "outputs": [],
   "source": [
    "# Quant han costat les peres en total?\n",
    "compra.get(\"Peres\").get('Qty')*compra.get(\"Peres\").get('€')"
   ]
  },
  {
   "cell_type": "markdown",
   "metadata": {
    "solution2": "hidden",
    "solution2_first": true
   },
   "source": [
    "- Quantes fruites hem comprat en total?"
   ]
  },
  {
   "cell_type": "code",
   "execution_count": null,
   "metadata": {
    "ExecuteTime": {
     "end_time": "2021-01-19T16:34:31.070166Z",
     "start_time": "2021-01-19T16:34:31.065180Z"
    },
    "solution2": "hidden"
   },
   "outputs": [],
   "source": [
    "total_fruites = 0\n",
    "for k, v in compra.items():\n",
    "    total_fruites += v['Qty']\n",
    "print(total_fruites)"
   ]
  },
  {
   "cell_type": "markdown",
   "metadata": {
    "solution2": "hidden",
    "solution2_first": true
   },
   "source": [
    "### <span style=color:red><b><u>EXERCICI 4 - Opcion b</u></b></span>\n",
    "\n",
    "Crea un diccionari de la següent forma i respon a les preguntes:   \n",
    "\n",
    "compra = { \"Pomes\" : {\"Qty\": 5, \"€\": 0.42}, \"Peres\" : {\"Qty\": 3, \"€\": 0.66}}   \n",
    "\n",
    "Afegeix alguna fruita més   \n",
    "Quant han costat les peres en total?   \n",
    "Quantes fruites hem comprat en total?   \n",
    "Quina és la fruita més cara?   "
   ]
  },
  {
   "cell_type": "code",
   "execution_count": null,
   "metadata": {
    "ExecuteTime": {
     "end_time": "2021-02-25T16:47:42.499009Z",
     "start_time": "2021-02-25T16:47:42.492030Z"
    },
    "solution2": "hidden"
   },
   "outputs": [],
   "source": [
    "compra = {\"Pomes\" : {\"Qty\": 5, \"€\": 0.42}, \"Peres\" : {\"Qty\": 3, \"€\": 0.66}}\n",
    "\n",
    "# Afegim una fruita més\n",
    "compra[\"Platans\"] = {\"Qty\": 2, \"€\": 0.48}\n",
    "\n",
    "print(compra)"
   ]
  },
  {
   "cell_type": "code",
   "execution_count": null,
   "metadata": {
    "ExecuteTime": {
     "end_time": "2021-01-18T17:11:47.299668Z",
     "start_time": "2021-01-18T17:11:47.294680Z"
    },
    "solution2": "hidden"
   },
   "outputs": [],
   "source": [
    "total_peres = compra[\"Peres\"][\"Qty\"] * compra[\"Peres\"][\"€\"]\n",
    "print(f\"Quant han costat les peres en total? {total_peres}\")"
   ]
  },
  {
   "cell_type": "code",
   "execution_count": null,
   "metadata": {
    "ExecuteTime": {
     "end_time": "2021-01-18T17:12:56.927723Z",
     "start_time": "2021-01-18T17:12:56.922769Z"
    },
    "solution2": "hidden"
   },
   "outputs": [],
   "source": [
    "total_fruites = 0\n",
    "for fruit in compra:\n",
    "    total_fruites += compra[fruit][\"Qty\"]\n",
    "    \n",
    "print(f\"Quantes fruites hem comprat en total? {total_fruites}\")"
   ]
  },
  {
   "cell_type": "code",
   "execution_count": null,
   "metadata": {
    "ExecuteTime": {
     "end_time": "2021-01-18T17:13:28.203544Z",
     "start_time": "2021-01-18T17:13:28.197592Z"
    },
    "solution2": "hidden"
   },
   "outputs": [],
   "source": [
    "llista_preus = []\n",
    "for fruit in compra:\n",
    "    llista_preus.append(compra[fruit][\"€\"])\n",
    "max_preu = max(llista_preus)\n",
    "\n",
    "for fruit in compra:\n",
    "    if compra[fruit][\"€\"] == max_preu:\n",
    "        print(f\"Quina és la fruita més cara? {fruit}\")"
   ]
  },
  {
   "cell_type": "markdown",
   "metadata": {
    "solution2": "hidden"
   },
   "source": [
    "- Quina és la fruita més cara?"
   ]
  },
  {
   "cell_type": "code",
   "execution_count": null,
   "metadata": {
    "ExecuteTime": {
     "end_time": "2021-01-19T16:38:52.881028Z",
     "start_time": "2021-01-19T16:38:52.875044Z"
    },
    "solution2": "hidden"
   },
   "outputs": [],
   "source": [
    "mes_car = (0, '')\n",
    "for k, v in compra.items():\n",
    "    if mes_car[0] < v['€']:\n",
    "        mes_car = (v['€'], k)\n",
    "print(mes_car)"
   ]
  },
  {
   "cell_type": "markdown",
   "metadata": {},
   "source": [
    "-------------"
   ]
  },
  {
   "cell_type": "markdown",
   "metadata": {
    "solution2": "hidden",
    "solution2_first": true
   },
   "source": [
    "### <span style=color:red><b><u>EXERCICI 4 - Opcion c</u></b></span>"
   ]
  },
  {
   "cell_type": "code",
   "execution_count": null,
   "metadata": {
    "ExecuteTime": {
     "end_time": "2021-02-25T16:47:47.130270Z",
     "start_time": "2021-02-25T16:47:47.124286Z"
    },
    "solution2": "hidden"
   },
   "outputs": [],
   "source": [
    "def total_fruita_seleccionada(compres,fruita_seleccionada):\n",
    "    data= list(compra[fruita_seleccionada].values())\n",
    "    return data[0]*data[1]\n",
    "\n",
    "fruita_escollida = \"Peres\"\n",
    "print(f'les {fruita_escollida} han costat {total_fruita_seleccionada(compra,fruita_escollida)} € en total')"
   ]
  },
  {
   "cell_type": "code",
   "execution_count": null,
   "metadata": {
    "ExecuteTime": {
     "end_time": "2021-02-25T16:47:56.410177Z",
     "start_time": "2021-02-25T16:47:56.405190Z"
    },
    "solution2": "hidden"
   },
   "outputs": [],
   "source": [
    "def get_total(compras):\n",
    "    total = 0\n",
    "    for key,val in compras.items():\n",
    "        total +=val.get('Qty')\n",
    "    return total"
   ]
  },
  {
   "cell_type": "code",
   "execution_count": null,
   "metadata": {
    "ExecuteTime": {
     "end_time": "2021-02-25T16:47:58.081163Z",
     "start_time": "2021-02-25T16:47:58.076176Z"
    },
    "solution2": "hidden"
   },
   "outputs": [],
   "source": [
    "print(f'hems comprado un total de {get_total(compra)} frutas')"
   ]
  },
  {
   "cell_type": "code",
   "execution_count": null,
   "metadata": {
    "ExecuteTime": {
     "end_time": "2021-02-25T16:47:59.993041Z",
     "start_time": "2021-02-25T16:47:59.988021Z"
    },
    "solution2": "hidden"
   },
   "outputs": [],
   "source": [
    "def get_expensive_fruit(compras):\n",
    "    precio_mas_caro = 0\n",
    "    for key,val in compras.items():\n",
    "        if val.get('€')> precio_mas_caro:\n",
    "            precio_mas_caro = val.get('€')\n",
    "    fruta_cara=[key for key,val in compras.items() if precio_mas_caro==val.get('€')]\n",
    "           \n",
    "    return fruta_cara[0]"
   ]
  },
  {
   "cell_type": "code",
   "execution_count": null,
   "metadata": {
    "ExecuteTime": {
     "end_time": "2021-02-25T16:48:03.496273Z",
     "start_time": "2021-02-25T16:48:03.491254Z"
    },
    "solution2": "hidden"
   },
   "outputs": [],
   "source": [
    "print(f'la fruta mas cara son las {get_expensive_fruit(compra)}')"
   ]
  },
  {
   "cell_type": "markdown",
   "metadata": {
    "solution2": "hidden",
    "solution2_first": true
   },
   "source": [
    "### <span style=color:red><b><u>EXERCICI 4 - Opcion d</u></b></span>"
   ]
  },
  {
   "cell_type": "code",
   "execution_count": null,
   "metadata": {
    "ExecuteTime": {
     "end_time": "2021-02-25T16:48:09.692427Z",
     "start_time": "2021-02-25T16:48:09.684449Z"
    },
    "solution2": "hidden"
   },
   "outputs": [],
   "source": [
    "compra['Kiwis']={\"Qty\": 2, \"€\": 1.18}\n",
    "\n",
    "for fruta,cesta in compra.items():\n",
    "    print('Hem comprat ',cesta['Qty'],' ', fruta,' a ',cesta['€'], '€/kilo')"
   ]
  },
  {
   "cell_type": "code",
   "execution_count": null,
   "metadata": {
    "ExecuteTime": {
     "end_time": "2021-02-25T16:48:10.506905Z",
     "start_time": "2021-02-25T16:48:10.500956Z"
    },
    "solution2": "hidden"
   },
   "outputs": [],
   "source": [
    "# Coste peras\n",
    "Coste_peres=compra['Peres']['Qty']*compra['Peres']['€']\n",
    "print('El coste total de las peras es: ',Coste_peres)\n",
    "\n",
    "# Cantidad total \n",
    "cantidad=0\n",
    "for fruta in compra.keys():\n",
    "    cantidad=cantidad+compra[fruta]['Qty']\n",
    "\n",
    "print('La cantidad total de frutas es: ',cantidad)"
   ]
  },
  {
   "cell_type": "code",
   "execution_count": null,
   "metadata": {
    "ExecuteTime": {
     "end_time": "2021-02-25T16:48:15.000902Z",
     "start_time": "2021-02-25T16:48:14.995916Z"
    },
    "solution2": "hidden"
   },
   "outputs": [],
   "source": [
    "maximo=0\n",
    "tipo=0\n",
    "for fruta,cesta in compra.items():\n",
    "    if cesta['€']>maximo:\n",
    "        maximo=cesta['€']\n",
    "        tipo=fruta\n",
    "print('La fruta más cara es: ',tipo,' a ',maximo,' €/Kilo')"
   ]
  },
  {
   "cell_type": "markdown",
   "metadata": {
    "solution2": "hidden",
    "solution2_first": true
   },
   "source": [
    "### <span style=color:red><b><u>EXERCICI 4 - Opcion e</u></b></span>"
   ]
  },
  {
   "cell_type": "code",
   "execution_count": null,
   "metadata": {
    "ExecuteTime": {
     "end_time": "2021-02-25T16:48:20.810483Z",
     "start_time": "2021-02-25T16:48:20.804535Z"
    },
    "solution2": "hidden"
   },
   "outputs": [],
   "source": [
    "## Quant han costat les peres en total?\n",
    "Qty_peres, preu_peres  = compra[\"Peres\"].values()\n",
    "preu_peres = compra[\"Peres\"][\"€\"] \n",
    "print (Qty_peres*preu_peres)"
   ]
  },
  {
   "cell_type": "code",
   "execution_count": null,
   "metadata": {
    "ExecuteTime": {
     "end_time": "2021-02-25T16:48:22.489322Z",
     "start_time": "2021-02-25T16:48:22.483338Z"
    },
    "solution2": "hidden"
   },
   "outputs": [],
   "source": [
    "## Quantes fruites hem comprat en total?\n",
    "Qty = 0\n",
    "for ii in compra:\n",
    "    Qty += compra[ii][\"Qty\"]\n",
    "print (Qty)"
   ]
  },
  {
   "cell_type": "code",
   "execution_count": null,
   "metadata": {
    "ExecuteTime": {
     "end_time": "2021-02-25T16:48:25.801783Z",
     "start_time": "2021-02-25T16:48:25.795803Z"
    },
    "solution2": "hidden"
   },
   "outputs": [],
   "source": [
    "## Quina és la fruita més cara?\n",
    "preu = 0\n",
    "for ii in compra:\n",
    "    nou_preu = compra[ii][\"€\"]\n",
    "    if nou_preu > preu: preu = nou_preu\n",
    "print (preu)"
   ]
  },
  {
   "cell_type": "markdown",
   "metadata": {
    "solution2": "hidden",
    "solution2_first": true
   },
   "source": [
    "### <span style=color:red><b><u>EXERCICI 4 - Opcion f</u></b></span>"
   ]
  },
  {
   "cell_type": "code",
   "execution_count": null,
   "metadata": {
    "ExecuteTime": {
     "end_time": "2021-02-25T16:48:41.973215Z",
     "start_time": "2021-02-25T16:48:41.964240Z"
    },
    "solution2": "hidden"
   },
   "outputs": [],
   "source": [
    "def mes_cara_u(dic, preu): # Funció que demana un diccionari i la variable preu\n",
    "    maxim = 0\n",
    "    for i in range(len(dic)):\n",
    "        if maxim < list(dic.values())[i][preu]:\n",
    "            maxim = list(dic.values())[i][preu]\n",
    "            q = list(dic)[i]\n",
    "    return q\n",
    "\n",
    "def mes_cara_total(dic, qnt, preu): # Funció que demana un diccionari i les variables que contenen les quantitats i preus\n",
    "    maxim = 0\n",
    "    q = 0\n",
    "    for i in range(len(dic)):\n",
    "        if maxim < list(dic.values())[i][qnt] * list(dic.values())[i][preu]:\n",
    "            maxim = list(dic.values())[i][qnt] * list(dic.values())[i][preu] \n",
    "            q = list(dic.keys())[i]\n",
    "    return q\n",
    "        \n",
    "print('La fruita més cara per peça és: ' + str(mes_cara_u(compra,\"€\")))\n",
    "print('La fruita més cara per preu total és: ' + str(mes_cara_total(compra,\"Qty\",\"€\")))"
   ]
  },
  {
   "cell_type": "markdown",
   "metadata": {
    "solution2": "hidden",
    "solution2_first": true
   },
   "source": [
    "### <span style=color:red><b><u>EXERCICI 4 - Opcion g</u></b></span>"
   ]
  },
  {
   "cell_type": "code",
   "execution_count": null,
   "metadata": {
    "ExecuteTime": {
     "end_time": "2021-02-25T16:48:55.261175Z",
     "start_time": "2021-02-25T16:48:55.252200Z"
    },
    "solution2": "hidden"
   },
   "outputs": [],
   "source": [
    "purchase = {\"Apples\": {\"Qty\": 5, \"€\": 0.42}, \"Pears\": {\"Qty\": 3, \"€\": 0.66}, \"Bananas\": {\"Qty\": 7, \"€\": 0.36}, \"Peaches\": {\"Qty\": 2, \"€\": 0.76}, \"Mangoes\": {\"Qty\": 2, \"€\": 1.58}, \"Pineapples\": {\"Qty\": 0, \"€\": 1.38}}\n",
    "purchase"
   ]
  },
  {
   "cell_type": "code",
   "execution_count": null,
   "metadata": {
    "ExecuteTime": {
     "end_time": "2021-02-25T16:48:56.929620Z",
     "start_time": "2021-02-25T16:48:56.923671Z"
    },
    "solution2": "hidden"
   },
   "outputs": [],
   "source": [
    "fruit = \"Pears\" # fruit for which we want to know the total cost\n",
    "cost_fruit = purchase[fruit][\"Qty\"] * purchase[fruit][\"€\"]\n",
    "print('Total cost of ' + fruit + ': ' + str(cost_fruit))"
   ]
  },
  {
   "cell_type": "code",
   "execution_count": null,
   "metadata": {
    "ExecuteTime": {
     "end_time": "2021-02-25T16:48:58.195813Z",
     "start_time": "2021-02-25T16:48:58.187836Z"
    },
    "scrolled": true,
    "solution2": "hidden"
   },
   "outputs": [],
   "source": [
    "fruitlist = []\n",
    "fruitlist = [item[:] for item in purchase]\n",
    "print(fruitlist)\n",
    "\n",
    "# The following calculates the quantity of each fruit in the list and adds them\n",
    "totalfruits = 0\n",
    "for fruit in fruitlist:\n",
    "    totalfruits = totalfruits + purchase[fruit][\"Qty\"]\n",
    "    print(fruit + ': ' + str(purchase[fruit][\"Qty\"]))\n",
    "\n",
    "print('Fruits bought in total: ' + str(totalfruits))"
   ]
  },
  {
   "cell_type": "code",
   "execution_count": null,
   "metadata": {
    "ExecuteTime": {
     "end_time": "2021-02-25T16:49:03.033367Z",
     "start_time": "2021-02-25T16:49:03.028379Z"
    },
    "solution2": "hidden"
   },
   "outputs": [],
   "source": [
    "price = []\n",
    "for fruit in fruitlist:\n",
    "    cost = [purchase[fruit][\"€\"]]\n",
    "    #print(cost)\n",
    "    price.append(cost)\n",
    "print(price)"
   ]
  },
  {
   "cell_type": "code",
   "execution_count": null,
   "metadata": {
    "ExecuteTime": {
     "end_time": "2021-02-25T16:49:04.289434Z",
     "start_time": "2021-02-25T16:49:04.283453Z"
    },
    "solution2": "hidden"
   },
   "outputs": [],
   "source": [
    "x = max(price)\n",
    "for fruit in fruitlist:\n",
    "    if x[0] == purchase[fruit][\"€\"]:\n",
    "        print('Expensive fruit: ' + fruit)"
   ]
  }
 ],
 "metadata": {
  "kernelspec": {
   "display_name": "Python 3",
   "language": "python",
   "name": "python3"
  },
  "language_info": {
   "codemirror_mode": {
    "name": "ipython",
    "version": 3
   },
   "file_extension": ".py",
   "mimetype": "text/x-python",
   "name": "python",
   "nbconvert_exporter": "python",
   "pygments_lexer": "ipython3",
   "version": "3.7.0"
  },
  "toc": {
   "base_numbering": 1,
   "nav_menu": {},
   "number_sections": true,
   "sideBar": true,
   "skip_h1_title": false,
   "title_cell": "Table of Contents",
   "title_sidebar": "Contents",
   "toc_cell": false,
   "toc_position": {},
   "toc_section_display": true,
   "toc_window_display": false
  },
  "varInspector": {
   "cols": {
    "lenName": 16,
    "lenType": 16,
    "lenVar": 40
   },
   "kernels_config": {
    "python": {
     "delete_cmd_postfix": "",
     "delete_cmd_prefix": "del ",
     "library": "var_list.py",
     "varRefreshCmd": "print(var_dic_list())"
    },
    "r": {
     "delete_cmd_postfix": ") ",
     "delete_cmd_prefix": "rm(",
     "library": "var_list.r",
     "varRefreshCmd": "cat(var_dic_list()) "
    }
   },
   "types_to_exclude": [
    "module",
    "function",
    "builtin_function_or_method",
    "instance",
    "_Feature"
   ],
   "window_display": false
  }
 },
 "nbformat": 4,
 "nbformat_minor": 2
}
